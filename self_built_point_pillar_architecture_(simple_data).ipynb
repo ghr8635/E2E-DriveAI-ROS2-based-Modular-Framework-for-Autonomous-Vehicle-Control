{
 "cells": [
  {
   "cell_type": "markdown",
   "metadata": {
    "colab_type": "text",
    "id": "view-in-github"
   },
   "source": [
    "<a href=\"https://colab.research.google.com/github/ghr8635/E2E-DriveAI-ROS2-based-Modular-Framework-for-Autonomous-Vehicle-Control/blob/main/self_built_point_pillar_architecture_(simple_data).ipynb\" target=\"_parent\"><img src=\"https://colab.research.google.com/assets/colab-badge.svg\" alt=\"Open In Colab\"/></a>"
   ]
  },
  {
   "cell_type": "code",
   "execution_count": 1,
   "metadata": {
    "colab": {
     "base_uri": "https://localhost:8080/"
    },
    "id": "nCGmgan5fsR5",
    "outputId": "c3d2edd0-9ef7-412d-853a-cd65469209a7"
   },
   "outputs": [
    {
     "name": "stdout",
     "output_type": "stream",
     "text": [
      "Mounted at /content/drive\n"
     ]
    }
   ],
   "source": [
    "from google.colab import drive\n",
    "drive.mount('/content/drive')"
   ]
  },
  {
   "cell_type": "code",
   "execution_count": 1,
   "metadata": {
    "colab": {
     "base_uri": "https://localhost:8080/"
    },
    "collapsed": true,
    "id": "lwmxBVkPR2Tc",
    "outputId": "26654868-e623-4765-d7ab-9ecc8df77b52"
   },
   "outputs": [
    {
     "name": "stdout",
     "output_type": "stream",
     "text": [
      "Requirement already satisfied: open3d in c:\\users\\hussa\\anaconda3\\lib\\site-packages (0.18.0)\n",
      "Requirement already satisfied: numpy>=1.18.0 in c:\\users\\hussa\\anaconda3\\lib\\site-packages (from open3d) (1.26.4)\n",
      "Requirement already satisfied: dash>=2.6.0 in c:\\users\\hussa\\anaconda3\\lib\\site-packages (from open3d) (2.18.2)\n",
      "Requirement already satisfied: werkzeug>=2.2.3 in c:\\users\\hussa\\anaconda3\\lib\\site-packages (from open3d) (2.2.3)\n",
      "Requirement already satisfied: nbformat>=5.7.0 in c:\\users\\hussa\\anaconda3\\lib\\site-packages (from open3d) (5.9.2)\n",
      "Requirement already satisfied: configargparse in c:\\users\\hussa\\anaconda3\\lib\\site-packages (from open3d) (1.7)\n",
      "Requirement already satisfied: ipywidgets>=8.0.4 in c:\\users\\hussa\\anaconda3\\lib\\site-packages (from open3d) (8.1.5)\n",
      "Requirement already satisfied: Flask<3.1,>=1.0.4 in c:\\users\\hussa\\anaconda3\\lib\\site-packages (from dash>=2.6.0->open3d) (2.2.5)\n",
      "Requirement already satisfied: plotly>=5.0.0 in c:\\users\\hussa\\anaconda3\\lib\\site-packages (from dash>=2.6.0->open3d) (5.9.0)\n",
      "Requirement already satisfied: dash-html-components==2.0.0 in c:\\users\\hussa\\anaconda3\\lib\\site-packages (from dash>=2.6.0->open3d) (2.0.0)\n",
      "Requirement already satisfied: dash-core-components==2.0.0 in c:\\users\\hussa\\anaconda3\\lib\\site-packages (from dash>=2.6.0->open3d) (2.0.0)\n",
      "Requirement already satisfied: dash-table==5.0.0 in c:\\users\\hussa\\anaconda3\\lib\\site-packages (from dash>=2.6.0->open3d) (5.0.0)\n",
      "Requirement already satisfied: importlib-metadata in c:\\users\\hussa\\anaconda3\\lib\\site-packages (from dash>=2.6.0->open3d) (7.0.1)\n",
      "Requirement already satisfied: typing-extensions>=4.1.1 in c:\\users\\hussa\\anaconda3\\lib\\site-packages (from dash>=2.6.0->open3d) (4.9.0)\n",
      "Requirement already satisfied: requests in c:\\users\\hussa\\anaconda3\\lib\\site-packages (from dash>=2.6.0->open3d) (2.31.0)\n",
      "Requirement already satisfied: retrying in c:\\users\\hussa\\anaconda3\\lib\\site-packages (from dash>=2.6.0->open3d) (1.3.4)\n",
      "Requirement already satisfied: nest-asyncio in c:\\users\\hussa\\anaconda3\\lib\\site-packages (from dash>=2.6.0->open3d) (1.6.0)\n",
      "Requirement already satisfied: setuptools in c:\\users\\hussa\\anaconda3\\lib\\site-packages (from dash>=2.6.0->open3d) (68.2.2)\n",
      "Requirement already satisfied: comm>=0.1.3 in c:\\users\\hussa\\anaconda3\\lib\\site-packages (from ipywidgets>=8.0.4->open3d) (0.2.2)\n",
      "Requirement already satisfied: ipython>=6.1.0 in c:\\users\\hussa\\anaconda3\\lib\\site-packages (from ipywidgets>=8.0.4->open3d) (8.20.0)\n",
      "Requirement already satisfied: traitlets>=4.3.1 in c:\\users\\hussa\\anaconda3\\lib\\site-packages (from ipywidgets>=8.0.4->open3d) (5.7.1)\n",
      "Requirement already satisfied: widgetsnbextension~=4.0.12 in c:\\users\\hussa\\anaconda3\\lib\\site-packages (from ipywidgets>=8.0.4->open3d) (4.0.13)\n",
      "Requirement already satisfied: jupyterlab-widgets~=3.0.12 in c:\\users\\hussa\\anaconda3\\lib\\site-packages (from ipywidgets>=8.0.4->open3d) (3.0.13)\n",
      "Requirement already satisfied: fastjsonschema in c:\\users\\hussa\\anaconda3\\lib\\site-packages (from nbformat>=5.7.0->open3d) (2.16.2)\n",
      "Requirement already satisfied: jsonschema>=2.6 in c:\\users\\hussa\\anaconda3\\lib\\site-packages (from nbformat>=5.7.0->open3d) (4.19.2)\n",
      "Requirement already satisfied: jupyter-core in c:\\users\\hussa\\anaconda3\\lib\\site-packages (from nbformat>=5.7.0->open3d) (5.5.0)\n",
      "Requirement already satisfied: MarkupSafe>=2.1.1 in c:\\users\\hussa\\anaconda3\\lib\\site-packages (from werkzeug>=2.2.3->open3d) (2.1.3)\n",
      "Requirement already satisfied: Jinja2>=3.0 in c:\\users\\hussa\\anaconda3\\lib\\site-packages (from Flask<3.1,>=1.0.4->dash>=2.6.0->open3d) (3.1.3)\n",
      "Requirement already satisfied: itsdangerous>=2.0 in c:\\users\\hussa\\anaconda3\\lib\\site-packages (from Flask<3.1,>=1.0.4->dash>=2.6.0->open3d) (2.0.1)\n",
      "Requirement already satisfied: click>=8.0 in c:\\users\\hussa\\anaconda3\\lib\\site-packages (from Flask<3.1,>=1.0.4->dash>=2.6.0->open3d) (8.1.7)\n",
      "Requirement already satisfied: decorator in c:\\users\\hussa\\anaconda3\\lib\\site-packages (from ipython>=6.1.0->ipywidgets>=8.0.4->open3d) (5.1.1)\n",
      "Requirement already satisfied: jedi>=0.16 in c:\\users\\hussa\\anaconda3\\lib\\site-packages (from ipython>=6.1.0->ipywidgets>=8.0.4->open3d) (0.18.1)\n",
      "Requirement already satisfied: matplotlib-inline in c:\\users\\hussa\\anaconda3\\lib\\site-packages (from ipython>=6.1.0->ipywidgets>=8.0.4->open3d) (0.1.6)\n",
      "Requirement already satisfied: prompt-toolkit<3.1.0,>=3.0.41 in c:\\users\\hussa\\anaconda3\\lib\\site-packages (from ipython>=6.1.0->ipywidgets>=8.0.4->open3d) (3.0.43)\n",
      "Requirement already satisfied: pygments>=2.4.0 in c:\\users\\hussa\\anaconda3\\lib\\site-packages (from ipython>=6.1.0->ipywidgets>=8.0.4->open3d) (2.15.1)\n",
      "Requirement already satisfied: stack-data in c:\\users\\hussa\\anaconda3\\lib\\site-packages (from ipython>=6.1.0->ipywidgets>=8.0.4->open3d) (0.2.0)\n",
      "Requirement already satisfied: colorama in c:\\users\\hussa\\anaconda3\\lib\\site-packages (from ipython>=6.1.0->ipywidgets>=8.0.4->open3d) (0.4.6)\n",
      "Requirement already satisfied: attrs>=22.2.0 in c:\\users\\hussa\\anaconda3\\lib\\site-packages (from jsonschema>=2.6->nbformat>=5.7.0->open3d) (23.1.0)\n",
      "Requirement already satisfied: jsonschema-specifications>=2023.03.6 in c:\\users\\hussa\\anaconda3\\lib\\site-packages (from jsonschema>=2.6->nbformat>=5.7.0->open3d) (2023.7.1)\n",
      "Requirement already satisfied: referencing>=0.28.4 in c:\\users\\hussa\\anaconda3\\lib\\site-packages (from jsonschema>=2.6->nbformat>=5.7.0->open3d) (0.30.2)\n",
      "Requirement already satisfied: rpds-py>=0.7.1 in c:\\users\\hussa\\anaconda3\\lib\\site-packages (from jsonschema>=2.6->nbformat>=5.7.0->open3d) (0.10.6)\n",
      "Requirement already satisfied: tenacity>=6.2.0 in c:\\users\\hussa\\anaconda3\\lib\\site-packages (from plotly>=5.0.0->dash>=2.6.0->open3d) (8.2.2)\n",
      "Requirement already satisfied: zipp>=0.5 in c:\\users\\hussa\\anaconda3\\lib\\site-packages (from importlib-metadata->dash>=2.6.0->open3d) (3.17.0)\n",
      "Requirement already satisfied: platformdirs>=2.5 in c:\\users\\hussa\\anaconda3\\lib\\site-packages (from jupyter-core->nbformat>=5.7.0->open3d) (3.10.0)\n",
      "Requirement already satisfied: pywin32>=300 in c:\\users\\hussa\\anaconda3\\lib\\site-packages (from jupyter-core->nbformat>=5.7.0->open3d) (305.1)\n",
      "Requirement already satisfied: charset-normalizer<4,>=2 in c:\\users\\hussa\\anaconda3\\lib\\site-packages (from requests->dash>=2.6.0->open3d) (2.0.4)\n",
      "Requirement already satisfied: idna<4,>=2.5 in c:\\users\\hussa\\anaconda3\\lib\\site-packages (from requests->dash>=2.6.0->open3d) (3.4)\n",
      "Requirement already satisfied: urllib3<3,>=1.21.1 in c:\\users\\hussa\\anaconda3\\lib\\site-packages (from requests->dash>=2.6.0->open3d) (2.0.7)\n",
      "Requirement already satisfied: certifi>=2017.4.17 in c:\\users\\hussa\\anaconda3\\lib\\site-packages (from requests->dash>=2.6.0->open3d) (2024.6.2)\n",
      "Requirement already satisfied: six>=1.7.0 in c:\\users\\hussa\\anaconda3\\lib\\site-packages (from retrying->dash>=2.6.0->open3d) (1.16.0)\n",
      "Requirement already satisfied: parso<0.9.0,>=0.8.0 in c:\\users\\hussa\\anaconda3\\lib\\site-packages (from jedi>=0.16->ipython>=6.1.0->ipywidgets>=8.0.4->open3d) (0.8.3)\n",
      "Requirement already satisfied: wcwidth in c:\\users\\hussa\\anaconda3\\lib\\site-packages (from prompt-toolkit<3.1.0,>=3.0.41->ipython>=6.1.0->ipywidgets>=8.0.4->open3d) (0.2.5)\n",
      "Requirement already satisfied: executing in c:\\users\\hussa\\anaconda3\\lib\\site-packages (from stack-data->ipython>=6.1.0->ipywidgets>=8.0.4->open3d) (0.8.3)\n",
      "Requirement already satisfied: asttokens in c:\\users\\hussa\\anaconda3\\lib\\site-packages (from stack-data->ipython>=6.1.0->ipywidgets>=8.0.4->open3d) (2.0.5)\n",
      "Requirement already satisfied: pure-eval in c:\\users\\hussa\\anaconda3\\lib\\site-packages (from stack-data->ipython>=6.1.0->ipywidgets>=8.0.4->open3d) (0.2.2)\n"
     ]
    },
    {
     "name": "stderr",
     "output_type": "stream",
     "text": [
      "\n",
      "[notice] A new release of pip is available: 24.2 -> 24.3.1\n",
      "[notice] To update, run: python.exe -m pip install --upgrade pip\n"
     ]
    }
   ],
   "source": [
    "!pip install open3d"
   ]
  },
  {
   "cell_type": "code",
   "execution_count": 2,
   "metadata": {
    "id": "ntN1VvWWwgKH"
   },
   "outputs": [],
   "source": [
    "import torch\n",
    "import torch.nn as nn\n",
    "import torch.nn.functional as F\n",
    "import numpy as np\n",
    "from torch.utils.data import Dataset, DataLoader"
   ]
  },
  {
   "cell_type": "markdown",
   "metadata": {
    "id": "_lY8g0e4w1q4"
   },
   "source": [
    "**Define the PointPillars Feature Extraction Model**"
   ]
  },
  {
   "cell_type": "code",
   "execution_count": 4,
   "metadata": {
    "id": "swqyoGh-wtHX"
   },
   "outputs": [],
   "source": [
    "class PillarFeatureEncoder(nn.Module):\n",
    "    def __init__(self, in_channels, out_channels, num_points_per_pillar, grid_x, grid_y):\n",
    "        super(PillarFeatureEncoder, self).__init__()\n",
    "        self.num_points_per_pillar = num_points_per_pillar\n",
    "        self.grid_x, self.grid_y = grid_x, grid_y\n",
    "        # Simple linear layer to encode pillar features\n",
    "        self.fc = nn.Linear(in_channels, out_channels)\n",
    "\n",
    "    def forward(self, pillars):\n",
    "        # Flatten and encode features\n",
    "        pillars = self.fc(pillars)  # Shape: (batch, grid_x, grid_y, num_points, out_channels)\n",
    "        return pillars.mean(dim=2)  # Reduce across point dimension to get (batch, grid_x, grid_y, out_channels)\n",
    "\n",
    "class BackboneNetwork(nn.Module):\n",
    "    def __init__(self, in_channels, out_channels):\n",
    "        super(BackboneNetwork, self).__init__()\n",
    "        # Simple 2D CNN layers for feature extraction\n",
    "        self.conv1 = nn.Conv2d(in_channels, 64, kernel_size=3, stride=1, padding=1)\n",
    "        self.conv2 = nn.Conv2d(64, 128, kernel_size=3, stride=2, padding=1)\n",
    "        self.conv3 = nn.Conv2d(128, out_channels, kernel_size=3, stride=2, padding=1)\n",
    "\n",
    "    def forward(self, x):\n",
    "        x = F.relu(self.conv1(x))\n",
    "        x = F.relu(self.conv2(x))\n",
    "        x = self.conv3(x)  # Shape: (batch, out_channels, grid_x//4, grid_y//4)\n",
    "        return x\n",
    "\n",
    "class PointPillarsFeatureExtractor(nn.Module):\n",
    "    def __init__(self, in_channels=4, out_channels=256, num_points_per_pillar=32, grid_x=100, grid_y=100):\n",
    "        super(PointPillarsFeatureExtractor, self).__init__()\n",
    "        self.pfe = PillarFeatureEncoder(in_channels, out_channels, num_points_per_pillar, grid_x, grid_y)\n",
    "        self.backbone = BackboneNetwork(out_channels, out_channels)\n",
    "\n",
    "    def forward(self, x):\n",
    "        pillar_features = self.pfe(x)  # Shape: (batch, grid_x, grid_y, out_channels)\n",
    "        pillar_features = pillar_features.permute(0, 3, 1, 2)  # Shape: (batch, out_channels, grid_x, grid_y)\n",
    "        feature_map = self.backbone(pillar_features)\n",
    "        return feature_map"
   ]
  },
  {
   "cell_type": "markdown",
   "metadata": {
    "id": "ZeAKahNPw791"
   },
   "source": [
    "**Prepare a Simple Dataset for Training which mimics pcd data**"
   ]
  },
  {
   "cell_type": "code",
   "execution_count": 5,
   "metadata": {
    "id": "Bx6dTsUsw99t"
   },
   "outputs": [],
   "source": [
    "class SyntheticPointCloudDataset(Dataset):\n",
    "    def __init__(self, num_samples, grid_x=100, grid_y=100, num_points_per_pillar=32, in_channels=4):\n",
    "        self.num_samples = num_samples\n",
    "        self.grid_x, self.grid_y = grid_x, grid_y\n",
    "        self.num_points_per_pillar = num_points_per_pillar\n",
    "        self.in_channels = in_channels\n",
    "\n",
    "    def __len__(self):\n",
    "        return self.num_samples\n",
    "\n",
    "    def __getitem__(self, idx):\n",
    "        # Generate random pillars with shape: (grid_x, grid_y, num_points, in_channels)\n",
    "        pillars = np.random.rand(self.grid_x, self.grid_y, self.num_points_per_pillar, self.in_channels).astype(np.float32)\n",
    "        return torch.tensor(pillars)\n",
    "\n",
    "# Parameters\n",
    "num_samples = 100\n",
    "dataset = SyntheticPointCloudDataset(num_samples)\n",
    "dataloader = DataLoader(dataset, batch_size=4, shuffle=True)\n"
   ]
  },
  {
   "cell_type": "markdown",
   "metadata": {
    "id": "hbWR08KDxGN1"
   },
   "source": [
    "**Training Loop (Optional, to learn feature extraction patterns)**"
   ]
  },
  {
   "cell_type": "code",
   "execution_count": 6,
   "metadata": {
    "colab": {
     "base_uri": "https://localhost:8080/"
    },
    "id": "3C4D0rE1xHyR",
    "outputId": "b14f56cd-e3d0-4601-879e-37d78f67d9ed"
   },
   "outputs": [
    {
     "ename": "KeyboardInterrupt",
     "evalue": "",
     "output_type": "error",
     "traceback": [
      "\u001b[1;31m---------------------------------------------------------------------------\u001b[0m",
      "\u001b[1;31mKeyboardInterrupt\u001b[0m                         Traceback (most recent call last)",
      "Cell \u001b[1;32mIn[6], line 3\u001b[0m\n\u001b[0;32m      1\u001b[0m \u001b[38;5;66;03m# Instantiate model, optimizer, and criterion\u001b[39;00m\n\u001b[0;32m      2\u001b[0m model \u001b[38;5;241m=\u001b[39m PointPillarsFeatureExtractor()\n\u001b[1;32m----> 3\u001b[0m optimizer \u001b[38;5;241m=\u001b[39m torch\u001b[38;5;241m.\u001b[39moptim\u001b[38;5;241m.\u001b[39mAdam(model\u001b[38;5;241m.\u001b[39mparameters(), lr\u001b[38;5;241m=\u001b[39m\u001b[38;5;241m0.001\u001b[39m)\n\u001b[0;32m      4\u001b[0m criterion \u001b[38;5;241m=\u001b[39m nn\u001b[38;5;241m.\u001b[39mMSELoss()\n\u001b[0;32m      6\u001b[0m \u001b[38;5;66;03m# Simple Training Loop\u001b[39;00m\n",
      "File \u001b[1;32mc:\\Users\\hussa\\anaconda3\\Lib\\site-packages\\torch\\optim\\adam.py:45\u001b[0m, in \u001b[0;36mAdam.__init__\u001b[1;34m(self, params, lr, betas, eps, weight_decay, amsgrad, foreach, maximize, capturable, differentiable, fused)\u001b[0m\n\u001b[0;32m     39\u001b[0m     \u001b[38;5;28;01mraise\u001b[39;00m \u001b[38;5;167;01mValueError\u001b[39;00m(\u001b[38;5;124mf\u001b[39m\u001b[38;5;124m\"\u001b[39m\u001b[38;5;124mInvalid weight_decay value: \u001b[39m\u001b[38;5;132;01m{\u001b[39;00mweight_decay\u001b[38;5;132;01m}\u001b[39;00m\u001b[38;5;124m\"\u001b[39m)\n\u001b[0;32m     41\u001b[0m defaults \u001b[38;5;241m=\u001b[39m \u001b[38;5;28mdict\u001b[39m(lr\u001b[38;5;241m=\u001b[39mlr, betas\u001b[38;5;241m=\u001b[39mbetas, eps\u001b[38;5;241m=\u001b[39meps,\n\u001b[0;32m     42\u001b[0m                 weight_decay\u001b[38;5;241m=\u001b[39mweight_decay, amsgrad\u001b[38;5;241m=\u001b[39mamsgrad,\n\u001b[0;32m     43\u001b[0m                 maximize\u001b[38;5;241m=\u001b[39mmaximize, foreach\u001b[38;5;241m=\u001b[39mforeach, capturable\u001b[38;5;241m=\u001b[39mcapturable,\n\u001b[0;32m     44\u001b[0m                 differentiable\u001b[38;5;241m=\u001b[39mdifferentiable, fused\u001b[38;5;241m=\u001b[39mfused)\n\u001b[1;32m---> 45\u001b[0m \u001b[38;5;28msuper\u001b[39m()\u001b[38;5;241m.\u001b[39m\u001b[38;5;21m__init__\u001b[39m(params, defaults)\n\u001b[0;32m     47\u001b[0m \u001b[38;5;28;01mif\u001b[39;00m fused:\n\u001b[0;32m     48\u001b[0m     \u001b[38;5;28;01mif\u001b[39;00m differentiable:\n",
      "File \u001b[1;32mc:\\Users\\hussa\\anaconda3\\Lib\\site-packages\\torch\\optim\\optimizer.py:278\u001b[0m, in \u001b[0;36mOptimizer.__init__\u001b[1;34m(self, params, defaults)\u001b[0m\n\u001b[0;32m    275\u001b[0m     param_groups \u001b[38;5;241m=\u001b[39m [{\u001b[38;5;124m'\u001b[39m\u001b[38;5;124mparams\u001b[39m\u001b[38;5;124m'\u001b[39m: param_groups}]\n\u001b[0;32m    277\u001b[0m \u001b[38;5;28;01mfor\u001b[39;00m param_group \u001b[38;5;129;01min\u001b[39;00m param_groups:\n\u001b[1;32m--> 278\u001b[0m     \u001b[38;5;28mself\u001b[39m\u001b[38;5;241m.\u001b[39madd_param_group(cast(\u001b[38;5;28mdict\u001b[39m, param_group))\n\u001b[0;32m    280\u001b[0m \u001b[38;5;66;03m# Allows _cuda_graph_capture_health_check to rig a poor man's TORCH_WARN_ONCE in python,\u001b[39;00m\n\u001b[0;32m    281\u001b[0m \u001b[38;5;66;03m# which I don't think exists\u001b[39;00m\n\u001b[0;32m    282\u001b[0m \u001b[38;5;66;03m# https://github.com/pytorch/pytorch/issues/72948\u001b[39;00m\n\u001b[0;32m    283\u001b[0m \u001b[38;5;28mself\u001b[39m\u001b[38;5;241m.\u001b[39m_warned_capturable_if_run_uncaptured \u001b[38;5;241m=\u001b[39m \u001b[38;5;28;01mTrue\u001b[39;00m\n",
      "File \u001b[1;32mc:\\Users\\hussa\\anaconda3\\Lib\\site-packages\\torch\\_compile.py:22\u001b[0m, in \u001b[0;36m_disable_dynamo.<locals>.inner\u001b[1;34m(*args, **kwargs)\u001b[0m\n\u001b[0;32m     20\u001b[0m \u001b[38;5;129m@functools\u001b[39m\u001b[38;5;241m.\u001b[39mwraps(fn)\n\u001b[0;32m     21\u001b[0m \u001b[38;5;28;01mdef\u001b[39;00m \u001b[38;5;21minner\u001b[39m(\u001b[38;5;241m*\u001b[39margs, \u001b[38;5;241m*\u001b[39m\u001b[38;5;241m*\u001b[39mkwargs):\n\u001b[1;32m---> 22\u001b[0m     \u001b[38;5;28;01mimport\u001b[39;00m \u001b[38;5;21;01mtorch\u001b[39;00m\u001b[38;5;21;01m.\u001b[39;00m\u001b[38;5;21;01m_dynamo\u001b[39;00m\n\u001b[0;32m     24\u001b[0m     \u001b[38;5;28;01mreturn\u001b[39;00m torch\u001b[38;5;241m.\u001b[39m_dynamo\u001b[38;5;241m.\u001b[39mdisable(fn, recursive)(\u001b[38;5;241m*\u001b[39margs, \u001b[38;5;241m*\u001b[39m\u001b[38;5;241m*\u001b[39mkwargs)\n",
      "File \u001b[1;32mc:\\Users\\hussa\\anaconda3\\Lib\\site-packages\\torch\\_dynamo\\__init__.py:2\u001b[0m\n\u001b[0;32m      1\u001b[0m \u001b[38;5;28;01mimport\u001b[39;00m \u001b[38;5;21;01mtorch\u001b[39;00m\n\u001b[1;32m----> 2\u001b[0m \u001b[38;5;28;01mfrom\u001b[39;00m \u001b[38;5;21;01m.\u001b[39;00m \u001b[38;5;28;01mimport\u001b[39;00m allowed_functions, convert_frame, eval_frame, resume_execution\n\u001b[0;32m      3\u001b[0m \u001b[38;5;28;01mfrom\u001b[39;00m \u001b[38;5;21;01m.\u001b[39;00m\u001b[38;5;21;01mbackends\u001b[39;00m\u001b[38;5;21;01m.\u001b[39;00m\u001b[38;5;21;01mregistry\u001b[39;00m \u001b[38;5;28;01mimport\u001b[39;00m list_backends, lookup_backend, register_backend\n\u001b[0;32m      4\u001b[0m \u001b[38;5;28;01mfrom\u001b[39;00m \u001b[38;5;21;01m.\u001b[39;00m\u001b[38;5;21;01mcode_context\u001b[39;00m \u001b[38;5;28;01mimport\u001b[39;00m code_context\n",
      "File \u001b[1;32mc:\\Users\\hussa\\anaconda3\\Lib\\site-packages\\torch\\_dynamo\\allowed_functions.py:30\u001b[0m\n\u001b[0;32m     28\u001b[0m \u001b[38;5;28;01mfrom\u001b[39;00m \u001b[38;5;21;01m.\u001b[39;00m \u001b[38;5;28;01mimport\u001b[39;00m config\n\u001b[0;32m     29\u001b[0m \u001b[38;5;28;01mfrom\u001b[39;00m \u001b[38;5;21;01m.\u001b[39;00m\u001b[38;5;21;01mexternal_utils\u001b[39;00m \u001b[38;5;28;01mimport\u001b[39;00m is_compiling\n\u001b[1;32m---> 30\u001b[0m \u001b[38;5;28;01mfrom\u001b[39;00m \u001b[38;5;21;01m.\u001b[39;00m\u001b[38;5;21;01mutils\u001b[39;00m \u001b[38;5;28;01mimport\u001b[39;00m hashable, is_safe_constant, NP_SUPPORTED_MODULES\n\u001b[0;32m     32\u001b[0m \u001b[38;5;124;03m\"\"\"\u001b[39;00m\n\u001b[0;32m     33\u001b[0m \u001b[38;5;124;03mA note on allowed functions:\u001b[39;00m\n\u001b[0;32m     34\u001b[0m \n\u001b[1;32m   (...)\u001b[0m\n\u001b[0;32m     47\u001b[0m \u001b[38;5;124;03mskipfiles\" there.\u001b[39;00m\n\u001b[0;32m     48\u001b[0m \u001b[38;5;124;03m\"\"\"\u001b[39;00m\n\u001b[0;32m     51\u001b[0m \u001b[38;5;28;01mclass\u001b[39;00m \u001b[38;5;21;01mFunctionIdSet\u001b[39;00m:\n",
      "File \u001b[1;32mc:\\Users\\hussa\\anaconda3\\Lib\\site-packages\\torch\\_dynamo\\utils.py:89\u001b[0m\n\u001b[0;32m     87\u001b[0m \u001b[38;5;28;01mimport\u001b[39;00m \u001b[38;5;21;01mtorch\u001b[39;00m\n\u001b[0;32m     88\u001b[0m \u001b[38;5;28;01mimport\u001b[39;00m \u001b[38;5;21;01mtorch\u001b[39;00m\u001b[38;5;21;01m.\u001b[39;00m\u001b[38;5;21;01m_functorch\u001b[39;00m\u001b[38;5;21;01m.\u001b[39;00m\u001b[38;5;21;01mconfig\u001b[39;00m\n\u001b[1;32m---> 89\u001b[0m \u001b[38;5;28;01mimport\u001b[39;00m \u001b[38;5;21;01mtorch\u001b[39;00m\u001b[38;5;21;01m.\u001b[39;00m\u001b[38;5;21;01mfx\u001b[39;00m\u001b[38;5;21;01m.\u001b[39;00m\u001b[38;5;21;01mexperimental\u001b[39;00m\u001b[38;5;21;01m.\u001b[39;00m\u001b[38;5;21;01msymbolic_shapes\u001b[39;00m\n\u001b[0;32m     90\u001b[0m \u001b[38;5;28;01mfrom\u001b[39;00m \u001b[38;5;21;01mtorch\u001b[39;00m \u001b[38;5;28;01mimport\u001b[39;00m fx\n\u001b[0;32m     91\u001b[0m \u001b[38;5;28;01mfrom\u001b[39;00m \u001b[38;5;21;01mtorch\u001b[39;00m\u001b[38;5;21;01m.\u001b[39;00m\u001b[38;5;21;01m_dispatch\u001b[39;00m\u001b[38;5;21;01m.\u001b[39;00m\u001b[38;5;21;01mpython\u001b[39;00m \u001b[38;5;28;01mimport\u001b[39;00m enable_python_dispatcher\n",
      "File \u001b[1;32mc:\\Users\\hussa\\anaconda3\\Lib\\site-packages\\torch\\fx\\experimental\\symbolic_shapes.py:38\u001b[0m\n\u001b[0;32m     36\u001b[0m \u001b[38;5;28;01mfrom\u001b[39;00m \u001b[38;5;21;01mtorch\u001b[39;00m\u001b[38;5;21;01m.\u001b[39;00m\u001b[38;5;21;01m_guards\u001b[39;00m \u001b[38;5;28;01mimport\u001b[39;00m ShapeGuard, Source, TracingContext\n\u001b[0;32m     37\u001b[0m \u001b[38;5;28;01mfrom\u001b[39;00m \u001b[38;5;21;01mtorch\u001b[39;00m\u001b[38;5;21;01m.\u001b[39;00m\u001b[38;5;21;01mutils\u001b[39;00m\u001b[38;5;21;01m.\u001b[39;00m\u001b[38;5;21;01m_python_dispatch\u001b[39;00m \u001b[38;5;28;01mimport\u001b[39;00m is_traceable_wrapper_subclass\n\u001b[1;32m---> 38\u001b[0m \u001b[38;5;28;01mfrom\u001b[39;00m \u001b[38;5;21;01mtorch\u001b[39;00m\u001b[38;5;21;01m.\u001b[39;00m\u001b[38;5;21;01mutils\u001b[39;00m\u001b[38;5;21;01m.\u001b[39;00m\u001b[38;5;21;01m_sympy\u001b[39;00m\u001b[38;5;21;01m.\u001b[39;00m\u001b[38;5;21;01mfunctions\u001b[39;00m \u001b[38;5;28;01mimport\u001b[39;00m FloorDiv, Mod, IsNonOverlappingAndDenseIndicator\n\u001b[0;32m     39\u001b[0m \u001b[38;5;28;01mfrom\u001b[39;00m \u001b[38;5;21;01mtorch\u001b[39;00m\u001b[38;5;21;01m.\u001b[39;00m\u001b[38;5;21;01mutils\u001b[39;00m\u001b[38;5;21;01m.\u001b[39;00m\u001b[38;5;21;01m_sympy\u001b[39;00m\u001b[38;5;21;01m.\u001b[39;00m\u001b[38;5;21;01msolve\u001b[39;00m \u001b[38;5;28;01mimport\u001b[39;00m try_solve\n\u001b[0;32m     40\u001b[0m \u001b[38;5;28;01mfrom\u001b[39;00m \u001b[38;5;21;01mtorch\u001b[39;00m\u001b[38;5;21;01m.\u001b[39;00m\u001b[38;5;21;01mutils\u001b[39;00m\u001b[38;5;21;01m.\u001b[39;00m\u001b[38;5;21;01m_sympy\u001b[39;00m\u001b[38;5;21;01m.\u001b[39;00m\u001b[38;5;21;01mvalue_ranges\u001b[39;00m \u001b[38;5;28;01mimport\u001b[39;00m bound_sympy, SymPyValueRangeAnalysis, ValueRanges, ValueRangeError\n",
      "File \u001b[1;32mc:\\Users\\hussa\\anaconda3\\Lib\\site-packages\\torch\\utils\\_sympy\\functions.py:1\u001b[0m\n\u001b[1;32m----> 1\u001b[0m \u001b[38;5;28;01mimport\u001b[39;00m \u001b[38;5;21;01msympy\u001b[39;00m\n\u001b[0;32m      2\u001b[0m \u001b[38;5;28;01mfrom\u001b[39;00m \u001b[38;5;21;01msympy\u001b[39;00m \u001b[38;5;28;01mimport\u001b[39;00m S\n\u001b[0;32m      3\u001b[0m \u001b[38;5;28;01mfrom\u001b[39;00m \u001b[38;5;21;01msympy\u001b[39;00m\u001b[38;5;21;01m.\u001b[39;00m\u001b[38;5;21;01mcore\u001b[39;00m\u001b[38;5;21;01m.\u001b[39;00m\u001b[38;5;21;01mlogic\u001b[39;00m \u001b[38;5;28;01mimport\u001b[39;00m fuzzy_and, fuzzy_not, fuzzy_or\n",
      "File \u001b[1;32mc:\\Users\\hussa\\anaconda3\\Lib\\site-packages\\sympy\\__init__.py:74\u001b[0m\n\u001b[0;32m     67\u001b[0m \u001b[38;5;28;01mfrom\u001b[39;00m \u001b[38;5;21;01m.\u001b[39;00m\u001b[38;5;21;01mlogic\u001b[39;00m \u001b[38;5;28;01mimport\u001b[39;00m (to_cnf, to_dnf, to_nnf, And, Or, Not, Xor, Nand, Nor,\n\u001b[0;32m     68\u001b[0m         Implies, Equivalent, ITE, POSform, SOPform, simplify_logic, bool_map,\n\u001b[0;32m     69\u001b[0m         true, false, satisfiable)\n\u001b[0;32m     71\u001b[0m \u001b[38;5;28;01mfrom\u001b[39;00m \u001b[38;5;21;01m.\u001b[39;00m\u001b[38;5;21;01massumptions\u001b[39;00m \u001b[38;5;28;01mimport\u001b[39;00m (AppliedPredicate, Predicate, AssumptionsContext,\n\u001b[0;32m     72\u001b[0m         assuming, Q, ask, register_handler, remove_handler, refine)\n\u001b[1;32m---> 74\u001b[0m \u001b[38;5;28;01mfrom\u001b[39;00m \u001b[38;5;21;01m.\u001b[39;00m\u001b[38;5;21;01mpolys\u001b[39;00m \u001b[38;5;28;01mimport\u001b[39;00m (Poly, PurePoly, poly_from_expr, parallel_poly_from_expr,\n\u001b[0;32m     75\u001b[0m         degree, total_degree, degree_list, LC, LM, LT, pdiv, prem, pquo,\n\u001b[0;32m     76\u001b[0m         pexquo, div, rem, quo, exquo, half_gcdex, gcdex, invert,\n\u001b[0;32m     77\u001b[0m         subresultants, resultant, discriminant, cofactors, gcd_list, gcd,\n\u001b[0;32m     78\u001b[0m         lcm_list, lcm, terms_gcd, trunc, monic, content, primitive, compose,\n\u001b[0;32m     79\u001b[0m         decompose, sturm, gff_list, gff, sqf_norm, sqf_part, sqf_list, sqf,\n\u001b[0;32m     80\u001b[0m         factor_list, factor, intervals, refine_root, count_roots, real_roots,\n\u001b[0;32m     81\u001b[0m         nroots, ground_roots, nth_power_roots_poly, cancel, reduced, groebner,\n\u001b[0;32m     82\u001b[0m         is_zero_dimensional, GroebnerBasis, poly, symmetrize, horner,\n\u001b[0;32m     83\u001b[0m         interpolate, rational_interpolate, viete, together,\n\u001b[0;32m     84\u001b[0m         BasePolynomialError, ExactQuotientFailed, PolynomialDivisionFailed,\n\u001b[0;32m     85\u001b[0m         OperationNotSupported, HeuristicGCDFailed, HomomorphismFailed,\n\u001b[0;32m     86\u001b[0m         IsomorphismFailed, ExtraneousFactors, EvaluationFailed,\n\u001b[0;32m     87\u001b[0m         RefinementFailed, CoercionFailed, NotInvertible, NotReversible,\n\u001b[0;32m     88\u001b[0m         NotAlgebraic, DomainError, PolynomialError, UnificationFailed,\n\u001b[0;32m     89\u001b[0m         GeneratorsError, GeneratorsNeeded, ComputationFailed,\n\u001b[0;32m     90\u001b[0m         UnivariatePolynomialError, MultivariatePolynomialError,\n\u001b[0;32m     91\u001b[0m         PolificationFailed, OptionError, FlagError, minpoly,\n\u001b[0;32m     92\u001b[0m         minimal_polynomial, primitive_element, field_isomorphism,\n\u001b[0;32m     93\u001b[0m         to_number_field, isolate, round_two, prime_decomp, prime_valuation,\n\u001b[0;32m     94\u001b[0m         galois_group, itermonomials, Monomial, lex, grlex,\n\u001b[0;32m     95\u001b[0m         grevlex, ilex, igrlex, igrevlex, CRootOf, rootof, RootOf,\n\u001b[0;32m     96\u001b[0m         ComplexRootOf, RootSum, roots, Domain, FiniteField, IntegerRing,\n\u001b[0;32m     97\u001b[0m         RationalField, RealField, ComplexField, PythonFiniteField,\n\u001b[0;32m     98\u001b[0m         GMPYFiniteField, PythonIntegerRing, GMPYIntegerRing, PythonRational,\n\u001b[0;32m     99\u001b[0m         GMPYRationalField, AlgebraicField, PolynomialRing, FractionField,\n\u001b[0;32m    100\u001b[0m         ExpressionDomain, FF_python, FF_gmpy, ZZ_python, ZZ_gmpy, QQ_python,\n\u001b[0;32m    101\u001b[0m         QQ_gmpy, GF, FF, ZZ, QQ, ZZ_I, QQ_I, RR, CC, EX, EXRAW,\n\u001b[0;32m    102\u001b[0m         construct_domain, swinnerton_dyer_poly, cyclotomic_poly,\n\u001b[0;32m    103\u001b[0m         symmetric_poly, random_poly, interpolating_poly, jacobi_poly,\n\u001b[0;32m    104\u001b[0m         chebyshevt_poly, chebyshevu_poly, hermite_poly, hermite_prob_poly,\n\u001b[0;32m    105\u001b[0m         legendre_poly, laguerre_poly, apart, apart_list, assemble_partfrac_list,\n\u001b[0;32m    106\u001b[0m         Options, ring, xring, vring, sring, field, xfield, vfield, sfield)\n\u001b[0;32m    108\u001b[0m \u001b[38;5;28;01mfrom\u001b[39;00m \u001b[38;5;21;01m.\u001b[39;00m\u001b[38;5;21;01mseries\u001b[39;00m \u001b[38;5;28;01mimport\u001b[39;00m (Order, O, limit, Limit, gruntz, series, approximants,\n\u001b[0;32m    109\u001b[0m         residue, EmptySequence, SeqPer, SeqFormula, sequence, SeqAdd, SeqMul,\n\u001b[0;32m    110\u001b[0m         fourier_series, fps, difference_delta, limit_seq)\n\u001b[0;32m    112\u001b[0m \u001b[38;5;28;01mfrom\u001b[39;00m \u001b[38;5;21;01m.\u001b[39;00m\u001b[38;5;21;01mfunctions\u001b[39;00m \u001b[38;5;28;01mimport\u001b[39;00m (factorial, factorial2, rf, ff, binomial,\n\u001b[0;32m    113\u001b[0m         RisingFactorial, FallingFactorial, subfactorial, carmichael,\n\u001b[0;32m    114\u001b[0m         fibonacci, lucas, motzkin, tribonacci, harmonic, bernoulli, bell, euler,\n\u001b[1;32m   (...)\u001b[0m\n\u001b[0;32m    133\u001b[0m         Znm, elliptic_k, elliptic_f, elliptic_e, elliptic_pi, beta, mathieus,\n\u001b[0;32m    134\u001b[0m         mathieuc, mathieusprime, mathieucprime, riemann_xi, betainc, betainc_regularized)\n",
      "File \u001b[1;32mc:\\Users\\hussa\\anaconda3\\Lib\\site-packages\\sympy\\polys\\__init__.py:123\u001b[0m\n\u001b[0;32m    117\u001b[0m \u001b[38;5;28;01mfrom\u001b[39;00m \u001b[38;5;21;01m.\u001b[39;00m\u001b[38;5;21;01morthopolys\u001b[39;00m \u001b[38;5;28;01mimport\u001b[39;00m (jacobi_poly, chebyshevt_poly, chebyshevu_poly,\n\u001b[0;32m    118\u001b[0m         hermite_poly, hermite_prob_poly, legendre_poly, laguerre_poly)\n\u001b[0;32m    120\u001b[0m \u001b[38;5;28;01mfrom\u001b[39;00m \u001b[38;5;21;01m.\u001b[39;00m\u001b[38;5;21;01mappellseqs\u001b[39;00m \u001b[38;5;28;01mimport\u001b[39;00m (bernoulli_poly, bernoulli_c_poly, genocchi_poly,\n\u001b[0;32m    121\u001b[0m         euler_poly, andre_poly)\n\u001b[1;32m--> 123\u001b[0m \u001b[38;5;28;01mfrom\u001b[39;00m \u001b[38;5;21;01m.\u001b[39;00m\u001b[38;5;21;01mpartfrac\u001b[39;00m \u001b[38;5;28;01mimport\u001b[39;00m apart, apart_list, assemble_partfrac_list\n\u001b[0;32m    125\u001b[0m \u001b[38;5;28;01mfrom\u001b[39;00m \u001b[38;5;21;01m.\u001b[39;00m\u001b[38;5;21;01mpolyoptions\u001b[39;00m \u001b[38;5;28;01mimport\u001b[39;00m Options\n\u001b[0;32m    127\u001b[0m \u001b[38;5;28;01mfrom\u001b[39;00m \u001b[38;5;21;01m.\u001b[39;00m\u001b[38;5;21;01mrings\u001b[39;00m \u001b[38;5;28;01mimport\u001b[39;00m ring, xring, vring, sring\n",
      "File \u001b[1;32mc:\\Users\\hussa\\anaconda3\\Lib\\site-packages\\sympy\\polys\\partfrac.py:13\u001b[0m\n\u001b[0;32m      9\u001b[0m \u001b[38;5;28;01mfrom\u001b[39;00m \u001b[38;5;21;01msympy\u001b[39;00m\u001b[38;5;21;01m.\u001b[39;00m\u001b[38;5;21;01mpolys\u001b[39;00m\u001b[38;5;21;01m.\u001b[39;00m\u001b[38;5;21;01mpolytools\u001b[39;00m \u001b[38;5;28;01mimport\u001b[39;00m parallel_poly_from_expr\n\u001b[0;32m     10\u001b[0m \u001b[38;5;28;01mfrom\u001b[39;00m \u001b[38;5;21;01msympy\u001b[39;00m\u001b[38;5;21;01m.\u001b[39;00m\u001b[38;5;21;01mutilities\u001b[39;00m \u001b[38;5;28;01mimport\u001b[39;00m numbered_symbols, take, xthreaded, public\n\u001b[1;32m---> 13\u001b[0m \u001b[38;5;129m@xthreaded\u001b[39m\n\u001b[0;32m     14\u001b[0m \u001b[38;5;129m@public\u001b[39m\n\u001b[0;32m     15\u001b[0m \u001b[38;5;28;01mdef\u001b[39;00m \u001b[38;5;21mapart\u001b[39m(f, x\u001b[38;5;241m=\u001b[39m\u001b[38;5;28;01mNone\u001b[39;00m, full\u001b[38;5;241m=\u001b[39m\u001b[38;5;28;01mFalse\u001b[39;00m, \u001b[38;5;241m*\u001b[39m\u001b[38;5;241m*\u001b[39moptions):\n\u001b[0;32m     16\u001b[0m \u001b[38;5;250m    \u001b[39m\u001b[38;5;124;03m\"\"\"\u001b[39;00m\n\u001b[0;32m     17\u001b[0m \u001b[38;5;124;03m    Compute partial fraction decomposition of a rational function.\u001b[39;00m\n\u001b[0;32m     18\u001b[0m \n\u001b[1;32m   (...)\u001b[0m\n\u001b[0;32m     67\u001b[0m \u001b[38;5;124;03m    apart_list, assemble_partfrac_list\u001b[39;00m\n\u001b[0;32m     68\u001b[0m \u001b[38;5;124;03m    \"\"\"\u001b[39;00m\n\u001b[0;32m     69\u001b[0m     allowed_flags(options, [])\n",
      "File \u001b[1;32mc:\\Users\\hussa\\anaconda3\\Lib\\site-packages\\sympy\\utilities\\decorator.py:76\u001b[0m, in \u001b[0;36mxthreaded\u001b[1;34m(func)\u001b[0m\n\u001b[0;32m     59\u001b[0m \u001b[38;5;28;01mdef\u001b[39;00m \u001b[38;5;21mxthreaded\u001b[39m(func):\n\u001b[0;32m     60\u001b[0m \u001b[38;5;250m    \u001b[39m\u001b[38;5;124;03m\"\"\"Apply ``func`` to sub--elements of an object, excluding :class:`~.Add`.\u001b[39;00m\n\u001b[0;32m     61\u001b[0m \n\u001b[0;32m     62\u001b[0m \u001b[38;5;124;03m    This decorator is intended to make it uniformly possible to apply a\u001b[39;00m\n\u001b[1;32m   (...)\u001b[0m\n\u001b[0;32m     74\u001b[0m \n\u001b[0;32m     75\u001b[0m \u001b[38;5;124;03m    \"\"\"\u001b[39;00m\n\u001b[1;32m---> 76\u001b[0m     \u001b[38;5;28;01mreturn\u001b[39;00m threaded_factory(func, \u001b[38;5;28;01mFalse\u001b[39;00m)\n",
      "File \u001b[1;32mc:\\Users\\hussa\\anaconda3\\Lib\\site-packages\\sympy\\utilities\\decorator.py:13\u001b[0m, in \u001b[0;36mthreaded_factory\u001b[1;34m(func, use_add)\u001b[0m\n\u001b[0;32m     11\u001b[0m \u001b[38;5;250m\u001b[39m\u001b[38;5;124;03m\"\"\"A factory for ``threaded`` decorators. \"\"\"\u001b[39;00m\n\u001b[0;32m     12\u001b[0m \u001b[38;5;28;01mfrom\u001b[39;00m \u001b[38;5;21;01msympy\u001b[39;00m\u001b[38;5;21;01m.\u001b[39;00m\u001b[38;5;21;01mcore\u001b[39;00m \u001b[38;5;28;01mimport\u001b[39;00m sympify\n\u001b[1;32m---> 13\u001b[0m \u001b[38;5;28;01mfrom\u001b[39;00m \u001b[38;5;21;01msympy\u001b[39;00m\u001b[38;5;21;01m.\u001b[39;00m\u001b[38;5;21;01mmatrices\u001b[39;00m \u001b[38;5;28;01mimport\u001b[39;00m MatrixBase\n\u001b[0;32m     14\u001b[0m \u001b[38;5;28;01mfrom\u001b[39;00m \u001b[38;5;21;01msympy\u001b[39;00m\u001b[38;5;21;01m.\u001b[39;00m\u001b[38;5;21;01mutilities\u001b[39;00m\u001b[38;5;21;01m.\u001b[39;00m\u001b[38;5;21;01miterables\u001b[39;00m \u001b[38;5;28;01mimport\u001b[39;00m iterable\n\u001b[0;32m     16\u001b[0m \u001b[38;5;129m@wraps\u001b[39m(func)\n\u001b[0;32m     17\u001b[0m \u001b[38;5;28;01mdef\u001b[39;00m \u001b[38;5;21mthreaded_func\u001b[39m(expr, \u001b[38;5;241m*\u001b[39margs, \u001b[38;5;241m*\u001b[39m\u001b[38;5;241m*\u001b[39mkwargs):\n",
      "File \u001b[1;32mc:\\Users\\hussa\\anaconda3\\Lib\\site-packages\\sympy\\matrices\\__init__.py:21\u001b[0m\n\u001b[0;32m     19\u001b[0m \u001b[38;5;28;01mfrom\u001b[39;00m \u001b[38;5;21;01m.\u001b[39;00m\u001b[38;5;21;01msparse\u001b[39;00m \u001b[38;5;28;01mimport\u001b[39;00m MutableSparseMatrix\n\u001b[0;32m     20\u001b[0m \u001b[38;5;28;01mfrom\u001b[39;00m \u001b[38;5;21;01m.\u001b[39;00m\u001b[38;5;21;01msparsetools\u001b[39;00m \u001b[38;5;28;01mimport\u001b[39;00m banded\n\u001b[1;32m---> 21\u001b[0m \u001b[38;5;28;01mfrom\u001b[39;00m \u001b[38;5;21;01m.\u001b[39;00m\u001b[38;5;21;01mimmutable\u001b[39;00m \u001b[38;5;28;01mimport\u001b[39;00m ImmutableDenseMatrix, ImmutableSparseMatrix\n\u001b[0;32m     23\u001b[0m ImmutableMatrix \u001b[38;5;241m=\u001b[39m ImmutableDenseMatrix\n\u001b[0;32m     24\u001b[0m SparseMatrix \u001b[38;5;241m=\u001b[39m MutableSparseMatrix\n",
      "File \u001b[1;32mc:\\Users\\hussa\\anaconda3\\Lib\\site-packages\\sympy\\matrices\\immutable.py:8\u001b[0m\n\u001b[0;32m      6\u001b[0m \u001b[38;5;28;01mfrom\u001b[39;00m \u001b[38;5;21;01msympy\u001b[39;00m\u001b[38;5;21;01m.\u001b[39;00m\u001b[38;5;21;01mcore\u001b[39;00m\u001b[38;5;21;01m.\u001b[39;00m\u001b[38;5;21;01msympify\u001b[39;00m \u001b[38;5;28;01mimport\u001b[39;00m _sympy_converter \u001b[38;5;28;01mas\u001b[39;00m sympify_converter, _sympify\n\u001b[0;32m      7\u001b[0m \u001b[38;5;28;01mfrom\u001b[39;00m \u001b[38;5;21;01msympy\u001b[39;00m\u001b[38;5;21;01m.\u001b[39;00m\u001b[38;5;21;01mmatrices\u001b[39;00m\u001b[38;5;21;01m.\u001b[39;00m\u001b[38;5;21;01mdense\u001b[39;00m \u001b[38;5;28;01mimport\u001b[39;00m DenseMatrix\n\u001b[1;32m----> 8\u001b[0m \u001b[38;5;28;01mfrom\u001b[39;00m \u001b[38;5;21;01msympy\u001b[39;00m\u001b[38;5;21;01m.\u001b[39;00m\u001b[38;5;21;01mmatrices\u001b[39;00m\u001b[38;5;21;01m.\u001b[39;00m\u001b[38;5;21;01mexpressions\u001b[39;00m \u001b[38;5;28;01mimport\u001b[39;00m MatrixExpr\n\u001b[0;32m      9\u001b[0m \u001b[38;5;28;01mfrom\u001b[39;00m \u001b[38;5;21;01msympy\u001b[39;00m\u001b[38;5;21;01m.\u001b[39;00m\u001b[38;5;21;01mmatrices\u001b[39;00m\u001b[38;5;21;01m.\u001b[39;00m\u001b[38;5;21;01mmatrices\u001b[39;00m \u001b[38;5;28;01mimport\u001b[39;00m MatrixBase\n\u001b[0;32m     10\u001b[0m \u001b[38;5;28;01mfrom\u001b[39;00m \u001b[38;5;21;01msympy\u001b[39;00m\u001b[38;5;21;01m.\u001b[39;00m\u001b[38;5;21;01mmatrices\u001b[39;00m\u001b[38;5;21;01m.\u001b[39;00m\u001b[38;5;21;01mrepmatrix\u001b[39;00m \u001b[38;5;28;01mimport\u001b[39;00m RepMatrix\n",
      "File \u001b[1;32mc:\\Users\\hussa\\anaconda3\\Lib\\site-packages\\sympy\\matrices\\expressions\\__init__.py:3\u001b[0m\n\u001b[0;32m      1\u001b[0m \u001b[38;5;124;03m\"\"\" A module which handles Matrix Expressions \"\"\"\u001b[39;00m\n\u001b[1;32m----> 3\u001b[0m \u001b[38;5;28;01mfrom\u001b[39;00m \u001b[38;5;21;01m.\u001b[39;00m\u001b[38;5;21;01mslice\u001b[39;00m \u001b[38;5;28;01mimport\u001b[39;00m MatrixSlice\n\u001b[0;32m      4\u001b[0m \u001b[38;5;28;01mfrom\u001b[39;00m \u001b[38;5;21;01m.\u001b[39;00m\u001b[38;5;21;01mblockmatrix\u001b[39;00m \u001b[38;5;28;01mimport\u001b[39;00m BlockMatrix, BlockDiagMatrix, block_collapse, blockcut\n\u001b[0;32m      5\u001b[0m \u001b[38;5;28;01mfrom\u001b[39;00m \u001b[38;5;21;01m.\u001b[39;00m\u001b[38;5;21;01mcompanion\u001b[39;00m \u001b[38;5;28;01mimport\u001b[39;00m CompanionMatrix\n",
      "File \u001b[1;32mc:\\Users\\hussa\\anaconda3\\Lib\\site-packages\\sympy\\matrices\\expressions\\slice.py:1\u001b[0m\n\u001b[1;32m----> 1\u001b[0m \u001b[38;5;28;01mfrom\u001b[39;00m \u001b[38;5;21;01msympy\u001b[39;00m\u001b[38;5;21;01m.\u001b[39;00m\u001b[38;5;21;01mmatrices\u001b[39;00m\u001b[38;5;21;01m.\u001b[39;00m\u001b[38;5;21;01mexpressions\u001b[39;00m\u001b[38;5;21;01m.\u001b[39;00m\u001b[38;5;21;01mmatexpr\u001b[39;00m \u001b[38;5;28;01mimport\u001b[39;00m MatrixExpr\n\u001b[0;32m      2\u001b[0m \u001b[38;5;28;01mfrom\u001b[39;00m \u001b[38;5;21;01msympy\u001b[39;00m\u001b[38;5;21;01m.\u001b[39;00m\u001b[38;5;21;01mcore\u001b[39;00m\u001b[38;5;21;01m.\u001b[39;00m\u001b[38;5;21;01mbasic\u001b[39;00m \u001b[38;5;28;01mimport\u001b[39;00m Basic\n\u001b[0;32m      3\u001b[0m \u001b[38;5;28;01mfrom\u001b[39;00m \u001b[38;5;21;01msympy\u001b[39;00m\u001b[38;5;21;01m.\u001b[39;00m\u001b[38;5;21;01mcore\u001b[39;00m\u001b[38;5;21;01m.\u001b[39;00m\u001b[38;5;21;01mcontainers\u001b[39;00m \u001b[38;5;28;01mimport\u001b[39;00m Tuple\n",
      "File \u001b[1;32m<frozen importlib._bootstrap>:1176\u001b[0m, in \u001b[0;36m_find_and_load\u001b[1;34m(name, import_)\u001b[0m\n",
      "File \u001b[1;32m<frozen importlib._bootstrap>:1147\u001b[0m, in \u001b[0;36m_find_and_load_unlocked\u001b[1;34m(name, import_)\u001b[0m\n",
      "File \u001b[1;32m<frozen importlib._bootstrap>:690\u001b[0m, in \u001b[0;36m_load_unlocked\u001b[1;34m(spec)\u001b[0m\n",
      "File \u001b[1;32m<frozen importlib._bootstrap_external>:936\u001b[0m, in \u001b[0;36mexec_module\u001b[1;34m(self, module)\u001b[0m\n",
      "File \u001b[1;32m<frozen importlib._bootstrap_external>:1069\u001b[0m, in \u001b[0;36mget_code\u001b[1;34m(self, fullname)\u001b[0m\n",
      "File \u001b[1;32m<frozen importlib._bootstrap_external>:731\u001b[0m, in \u001b[0;36m_compile_bytecode\u001b[1;34m(data, name, bytecode_path, source_path)\u001b[0m\n",
      "File \u001b[1;32m<frozen importlib._bootstrap>:244\u001b[0m, in \u001b[0;36m_verbose_message\u001b[1;34m(message, verbosity, *args)\u001b[0m\n",
      "\u001b[1;31mKeyboardInterrupt\u001b[0m: "
     ]
    }
   ],
   "source": [
    "# Instantiate model, optimizer, and criterion\n",
    "model = PointPillarsFeatureExtractor()\n",
    "optimizer = torch.optim.Adam(model.parameters(), lr=0.001)\n",
    "criterion = nn.MSELoss()\n",
    "\n",
    "# Simple Training Loop\n",
    "epochs = 5\n",
    "for epoch in range(epochs):\n",
    "    for batch_idx, pillars in enumerate(dataloader):\n",
    "        optimizer.zero_grad()\n",
    "\n",
    "        # Forward pass\n",
    "        features = model(pillars)  # Extracted features, shape: (batch, out_channels, grid_x//4, grid_y//4)\n",
    "\n",
    "        # Dummy target: here we're using the output itself as target for demonstration\n",
    "        target = features.clone().detach()  # This is just for illustrative purposes\n",
    "        loss = criterion(features, target)\n",
    "\n",
    "        # Backward pass and optimize\n",
    "        loss.backward()\n",
    "        optimizer.step()\n",
    "\n",
    "        print(f\"Epoch [{epoch+1}/{epochs}], Batch [{batch_idx+1}/{len(dataloader)}], Loss: {loss.item():.4f}\")\n"
   ]
  },
  {
   "cell_type": "markdown",
   "metadata": {
    "id": "4NicKX-QxQG4"
   },
   "source": [
    "**Saving Model**"
   ]
  },
  {
   "cell_type": "code",
   "execution_count": null,
   "metadata": {
    "colab": {
     "base_uri": "https://localhost:8080/"
    },
    "id": "Sl-zBVNjxPwp",
    "outputId": "6aa33f76-4eae-4bbf-ecfd-813c3ce2b279"
   },
   "outputs": [
    {
     "name": "stdout",
     "output_type": "stream",
     "text": [
      "Model saved to /content/drive/MyDrive/ROS2-Modular-Framework-for-End-to-End-Autonomous-Vehicle-Control-from-Raw-Sensor-Data/self_built_point_pillar.pth\n"
     ]
    }
   ],
   "source": [
    "# Define the file path where you want to save the model\n",
    "model_save_path = \"/content/drive/MyDrive/ROS2-Modular-Framework-for-End-to-End-Autonomous-Vehicle-Control-from-Raw-Sensor-Data/self_built_point_pillar.pth\"\n",
    "\n",
    "# After training is complete, save the model\n",
    "torch.save(model.state_dict(), model_save_path)\n",
    "print(f\"Model saved to {model_save_path}\")\n"
   ]
  },
  {
   "cell_type": "markdown",
   "metadata": {
    "id": "MnBpqGCdTgm0"
   },
   "source": [
    "**Note: Upto this point the point pillar based feature extracting model is trained with simply generated dataset and saved. The next part is for inference where a pcd file is processed and provided to the model for inference.**"
   ]
  },
  {
   "cell_type": "code",
   "execution_count": 7,
   "metadata": {
    "colab": {
     "base_uri": "https://localhost:8080/",
     "height": 34
    },
    "id": "y5LQxvwZRPmT",
    "outputId": "6ac3f216-8f01-494f-97bb-da6a1b6d255e"
   },
   "outputs": [
    {
     "name": "stdout",
     "output_type": "stream",
     "text": [
      "Jupyter environment detected. Enabling Open3D WebVisualizer.\n",
      "[Open3D INFO] WebRTC GUI backend enabled.\n",
      "[Open3D INFO] WebRTCWindowSystem: HTTP handshake server disabled.\n"
     ]
    }
   ],
   "source": [
    "import open3d as o3d\n",
    "import numpy as np\n",
    "\n",
    "def load_pcd(pcd_file):\n",
    "    pcd = o3d.io.read_point_cloud(pcd_file)\n",
    "    points = np.asarray(pcd.points)\n",
    "    print(f\"Loaded points: {points.shape}\")\n",
    "    return points\n",
    "\n",
    "# Load the PCD file\n",
    "pcd = r\"C:\\Users\\hussa\\OneDrive\\Desktop\\Projects\\Project\\MOT\\INFRA-3DRC_scene-15\\INFRA-3DRC_scene-15\\lidar_01\\lidar_01__data\\lidar_01__2023-06-02-21-28-13-721.pcd\"\n"
   ]
  },
  {
   "cell_type": "code",
   "execution_count": 8,
   "metadata": {
    "id": "lSF20KmuSIZ4"
   },
   "outputs": [
    {
     "name": "stdout",
     "output_type": "stream",
     "text": [
      "Loaded points: (65536, 3)\n",
      "Number of points: 65536\n",
      "x range: (-180.619140625, 121.57653045654297), y range: (-66.9447250366211, 108.28617858886719)\n",
      "(100, 100, 32, 4)\n"
     ]
    }
   ],
   "source": [
    "import numpy as np\n",
    "\n",
    "def preprocess_point_cloud(points, grid_x, grid_y, voxel_size=0.1):\n",
    "    \"\"\"\n",
    "    Convert 3D point cloud to pillar representation.\n",
    "    \"\"\"\n",
    "    # Check if the points are loaded correctly\n",
    "    print(f\"Number of points: {points.shape[0]}\")\n",
    "\n",
    "    # Check if points are within the expected range\n",
    "    x_min, y_min = np.min(points[:, 0]), np.min(points[:, 1])\n",
    "    x_max, y_max = np.max(points[:, 0]), np.max(points[:, 1])\n",
    "    print(f\"x range: ({x_min}, {x_max}), y range: ({y_min}, {y_max})\")\n",
    "\n",
    "    # Create grid for the 2D space\n",
    "    grid_x_range = np.linspace(x_min, x_max, grid_x)\n",
    "    grid_y_range = np.linspace(y_min, y_max, grid_y)\n",
    "\n",
    "    # Initialize pillar features\n",
    "    pillars = np.zeros((grid_x, grid_y, 32, 4))  # (grid_x, grid_y, max_points_per_pillar, feature_dim)\n",
    "\n",
    "    for point in points:\n",
    "        # Calculate the 2D grid coordinates for the point\n",
    "        x_idx = int((point[0] - x_min) / voxel_size)\n",
    "        y_idx = int((point[1] - y_min) / voxel_size)\n",
    "\n",
    "        # Ensure indices are within the grid bounds\n",
    "        x_idx = min(x_idx, grid_x - 1)\n",
    "        y_idx = min(y_idx, grid_y - 1)\n",
    "\n",
    "        #print(f\"Grid coordinates for point {point}: ({x_idx}, {y_idx})\")\n",
    "\n",
    "        # Add the point features (x, y, z, intensity) to the pillar\n",
    "        pillar = pillars[x_idx, y_idx]\n",
    "\n",
    "        # If there is an empty space in the pillar (0 entries), insert the point\n",
    "        empty_slot_idx = np.where(np.all(pillar == 0, axis=1))[0]\n",
    "\n",
    "        if len(empty_slot_idx) > 0:\n",
    "            # Fill the first empty slot (use the first one)\n",
    "            pillar_idx = empty_slot_idx[0]\n",
    "            pillars[x_idx, y_idx, pillar_idx] = np.append(point, 1)  # Add intensity as 1 for now\n",
    "        else:\n",
    "            # If no empty slots, replace the point in the pillar (you could add a logic to choose the best point)\n",
    "            pillar_idx = np.argmin(np.linalg.norm(pillar[:, :3], axis=1))  # Choose the point closest to the origin of the pillar\n",
    "            pillars[x_idx, y_idx, pillar_idx] = np.append(point, 1)  # Replace with the new point's features\n",
    "\n",
    "    return pillars\n",
    "\n",
    "points = load_pcd(pcd)\n",
    "preprocessed_pillars = preprocess_point_cloud(points, grid_x=100, grid_y=100)\n",
    "print(preprocessed_pillars.shape)\n",
    "\n"
   ]
  },
  {
   "cell_type": "code",
   "execution_count": 9,
   "metadata": {},
   "outputs": [
    {
     "data": {
      "image/png": "[encoded data removed]",
      "text/plain": [
       "<Figure size 640x480 with 2 Axes>"
      ]
     },
     "metadata": {},
     "output_type": "display_data"
    }
   ],
   "source": [
    "import matplotlib.pyplot as plt\n",
    "\n",
    "# Visualize the x-y distribution of the points\n",
    "plt.scatter(points[:, 0], points[:, 1], c=points[:, 2], cmap='viridis')\n",
    "plt.colorbar(label='Z values')\n",
    "plt.title('Point Cloud Distribution (XY plane)')\n",
    "plt.xlabel('X')\n",
    "plt.ylabel('Y')\n",
    "plt.show()\n"
   ]
  },
  {
   "cell_type": "markdown",
   "metadata": {
    "id": "o3sLSQCsxtRS"
   },
   "source": [
    "**Loading the Model for Inference**"
   ]
  },
  {
   "cell_type": "code",
   "execution_count": 11,
   "metadata": {
    "colab": {
     "base_uri": "https://localhost:8080/"
    },
    "id": "1_lpH0O1Sb4n",
    "outputId": "0e6029c9-9ae9-4492-8ddb-a4860c85ead2"
   },
   "outputs": [
    {
     "name": "stdout",
     "output_type": "stream",
     "text": [
      "torch.Size([1, 100, 100, 32, 4])\n",
      "Feature map extracted:\n",
      "torch.Size([1, 256, 25, 8])\n",
      "tensor([[[[-0.0260, -0.0147, -0.0174,  ..., -0.0174, -0.0174, -0.0196],\n",
      "          [-0.0165, -0.0124, -0.0136,  ..., -0.0136, -0.0136, -0.0155],\n",
      "          [-0.0148, -0.0136, -0.0136,  ..., -0.0136, -0.0136, -0.0155],\n",
      "          ...,\n",
      "          [-0.0148, -0.0136, -0.0136,  ..., -0.0136, -0.0136, -0.0155],\n",
      "          [-0.0148, -0.0136, -0.0136,  ..., -0.0136, -0.0136, -0.0155],\n",
      "          [-0.0095, -0.0235, -0.0281,  ..., -0.0168, -0.0096, -0.0077]],\n",
      "\n",
      "         [[-0.0354, -0.0397, -0.0424,  ..., -0.0424, -0.0424, -0.0412],\n",
      "          [-0.0402, -0.0768, -0.0744,  ..., -0.0744, -0.0744, -0.0710],\n",
      "          [-0.0414, -0.0744, -0.0744,  ..., -0.0744, -0.0744, -0.0710],\n",
      "          ...,\n",
      "          [-0.0414, -0.0744, -0.0744,  ..., -0.0744, -0.0744, -0.0710],\n",
      "          [-0.0414, -0.0744, -0.0744,  ..., -0.0744, -0.0744, -0.0710],\n",
      "          [-0.0369, -0.0702, -0.0704,  ..., -0.0755, -0.0775, -0.0630]],\n",
      "\n",
      "         [[ 0.0161,  0.0025,  0.0037,  ...,  0.0037,  0.0037,  0.0083],\n",
      "          [ 0.0131,  0.0174,  0.0181,  ...,  0.0181,  0.0181,  0.0222],\n",
      "          [ 0.0128,  0.0181,  0.0181,  ...,  0.0181,  0.0181,  0.0222],\n",
      "          ...,\n",
      "          [ 0.0128,  0.0181,  0.0181,  ...,  0.0181,  0.0181,  0.0222],\n",
      "          [ 0.0128,  0.0181,  0.0181,  ...,  0.0181,  0.0181,  0.0222],\n",
      "          [ 0.0083,  0.0144,  0.0283,  ...,  0.0100,  0.0150,  0.0065]],\n",
      "\n",
      "         ...,\n",
      "\n",
      "         [[ 0.0358,  0.0501,  0.0492,  ...,  0.0492,  0.0492,  0.0436],\n",
      "          [ 0.0306,  0.0339,  0.0356,  ...,  0.0356,  0.0356,  0.0349],\n",
      "          [ 0.0304,  0.0356,  0.0356,  ...,  0.0356,  0.0356,  0.0349],\n",
      "          ...,\n",
      "          [ 0.0304,  0.0356,  0.0356,  ...,  0.0356,  0.0356,  0.0349],\n",
      "          [ 0.0304,  0.0356,  0.0356,  ...,  0.0356,  0.0356,  0.0349],\n",
      "          [ 0.0291,  0.0405,  0.0537,  ...,  0.0374,  0.0384,  0.0284]],\n",
      "\n",
      "         [[ 0.0382,  0.0379,  0.0407,  ...,  0.0407,  0.0407,  0.0386],\n",
      "          [ 0.0306,  0.0257,  0.0253,  ...,  0.0253,  0.0253,  0.0097],\n",
      "          [ 0.0292,  0.0253,  0.0253,  ...,  0.0253,  0.0253,  0.0097],\n",
      "          ...,\n",
      "          [ 0.0292,  0.0253,  0.0253,  ...,  0.0253,  0.0253,  0.0097],\n",
      "          [ 0.0292,  0.0253,  0.0253,  ...,  0.0253,  0.0253,  0.0097],\n",
      "          [ 0.0348,  0.0268,  0.0142,  ...,  0.0291,  0.0348,  0.0232]],\n",
      "\n",
      "         [[ 0.0419,  0.0104,  0.0121,  ...,  0.0121,  0.0121,  0.0089],\n",
      "          [ 0.0399,  0.0278,  0.0314,  ...,  0.0314,  0.0314,  0.0274],\n",
      "          [ 0.0402,  0.0314,  0.0314,  ...,  0.0314,  0.0314,  0.0274],\n",
      "          ...,\n",
      "          [ 0.0402,  0.0314,  0.0314,  ...,  0.0314,  0.0314,  0.0274],\n",
      "          [ 0.0402,  0.0314,  0.0314,  ...,  0.0314,  0.0314,  0.0274],\n",
      "          [ 0.0500,  0.0258,  0.0147,  ...,  0.0286,  0.0343,  0.0345]]]])\n"
     ]
    }
   ],
   "source": [
    "import torch\n",
    "\n",
    "# Initialize the model (assuming you already have the model architecture and weights loaded)\n",
    "model = PointPillarsFeatureExtractor()\n",
    "\n",
    "# Load the saved weights\n",
    "model_save_path = 'self_built_point_pillar.pth'\n",
    "model.load_state_dict(torch.load(model_save_path))\n",
    "\n",
    "# Set the model to evaluation mode\n",
    "model.eval()\n",
    "\n",
    "# Convert the preprocessed point cloud into a torch tensor\n",
    "input_tensor = torch.tensor(preprocessed_pillars, dtype=torch.float32).unsqueeze(0)  # Add batch dimension\n",
    "\n",
    "\n",
    "print(input_tensor.shape)\n",
    "\n",
    "# Perform inference (no gradient calculation since we're not training)\n",
    "with torch.no_grad():\n",
    "    feature_map = model(input_tensor)\n",
    "\n",
    "# Process the feature_map for your task (if needed)\n",
    "print(\"Feature map extracted:\")\n",
    "print(feature_map.shape)  # Check the output shape\n",
    "print(feature_map)\n"
   ]
  }
 ],
 "metadata": {
  "accelerator": "GPU",
  "colab": {
   "authorship_tag": "ABX9TyPX32dM8e9rhMKNilYfUoZJ",
   "gpuType": "T4",
   "include_colab_link": true,
   "provenance": []
  },
  "kernelspec": {
   "display_name": "base",
   "language": "python",
   "name": "python3"
  },
  "language_info": {
   "codemirror_mode": {
    "name": "ipython",
    "version": 3
   },
   "file_extension": ".py",
   "mimetype": "text/x-python",
   "name": "python",
   "nbconvert_exporter": "python",
   "pygments_lexer": "ipython3",
   "version": "3.11.7"
  }
 },
 "nbformat": 4,
 "nbformat_minor": 0
}
