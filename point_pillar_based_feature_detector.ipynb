{
  "nbformat": 4,
  "nbformat_minor": 0,
  "metadata": {
    "colab": {
      "provenance": [],
      "authorship_tag": "ABX9TyMUBBUntW9hS5FxSW8u/ngW",
      "include_colab_link": true
    },
    "kernelspec": {
      "name": "python3",
      "display_name": "Python 3"
    },
    "language_info": {
      "name": "python"
    }
  },
  "cells": [
    {
      "cell_type": "markdown",
      "metadata": {
        "id": "view-in-github",
        "colab_type": "text"
      },
      "source": [
        "<a href=\"https://colab.research.google.com/github/ghr8635/E2E-DriveAI-ROS2-based-Modular-Framework-for-Autonomous-Vehicle-Control/blob/main/point_pillar_based_feature_extractor.ipynb\" target=\"_parent\"><img src=\"https://colab.research.google.com/assets/colab-badge.svg\" alt=\"Open In Colab\"/></a>"
      ]
    },
    {
      "cell_type": "code",
      "execution_count": null,
      "metadata": {
        "id": "VlV3ZM0avHsM"
      },
      "outputs": [],
      "source": [
        "from google.colab import drive\n",
        "drive.mount('/content/drive')"
      ]
    },
    {
      "cell_type": "markdown",
      "source": [
        "**Install Required Libraries**"
      ],
      "metadata": {
        "id": "M5Bl5qOHykH6"
      }
    },
    {
      "cell_type": "code",
      "source": [
        "pip install mmdet3d\n",
        "pip install torch torchvision mmcv open3d\n",
        "\n"
      ],
      "metadata": {
        "id": "3wt4r2FJvNt4"
      },
      "execution_count": null,
      "outputs": []
    },
    {
      "cell_type": "markdown",
      "source": [
        "**Import Libraries**"
      ],
      "metadata": {
        "id": "hJ8uUYt1yoMv"
      }
    },
    {
      "cell_type": "code",
      "source": [
        "import torch\n",
        "import numpy as np\n",
        "import open3d as o3d\n",
        "from mmdet3d.datasets.pipelines import Compose\n",
        "from mmdet3d.models import build_model\n",
        "from mmcv import Config\n"
      ],
      "metadata": {
        "id": "TbTFhXUxv2de"
      },
      "execution_count": null,
      "outputs": []
    },
    {
      "cell_type": "markdown",
      "source": [
        "**Preprocess the .pcd Data**"
      ],
      "metadata": {
        "id": "OSI-JQpOyrd8"
      }
    },
    {
      "cell_type": "code",
      "source": [
        "# Function to convert .pcd to .bin\n",
        "def convert_pcd_to_bin(pcd_file, bin_file):\n",
        "    pcd = o3d.io.read_point_cloud(pcd_file)  # Read the PCD file\n",
        "    points = np.asarray(pcd.points)  # Get the points (XYZ coordinates)\n",
        "    points.tofile(bin_file)  # Save the points to a binary file\n",
        "\n",
        "# Example usage\n",
        "convert_pcd_to_bin(\"path_to_your_data.pcd\", \"path_to_your_output_data.bin\")"
      ],
      "metadata": {
        "id": "rHEfyx5-yejO"
      },
      "execution_count": null,
      "outputs": []
    },
    {
      "cell_type": "markdown",
      "source": [
        "**Prepare the Dataset Pipeline**"
      ],
      "metadata": {
        "id": "8mQF_pA3y2j5"
      }
    },
    {
      "cell_type": "code",
      "source": [
        "# Load the configuration file for PointPillars\n",
        "cfg = Config.fromfile('configs/pointpillars/pointpillars_kitti.py')\n",
        "\n",
        "# Modify the configuration to remove detection head (we are only extracting features)\n",
        "cfg.model.bbox_head = None\n",
        "\n",
        "# Set the paths to your dataset (adjust the paths to your specific dataset)\n",
        "cfg.data.train.data_root = 'path/to/your_dataset/training/'\n",
        "cfg.data.test.data_root = 'path/to/your_dataset/testing/'\n",
        "\n",
        "# Define the preprocessing pipeline (for test phase)\n",
        "test_pipeline = Compose(cfg.data.test.pipeline)\n"
      ],
      "metadata": {
        "id": "mFIcpHndy15g"
      },
      "execution_count": null,
      "outputs": []
    },
    {
      "cell_type": "markdown",
      "source": [
        "**Build the PointPillars Model**"
      ],
      "metadata": {
        "id": "knr8Chh-y_oq"
      }
    },
    {
      "cell_type": "code",
      "source": [
        "# Build the model using the configuration\n",
        "model = build_model(cfg.model)\n",
        "\n",
        "# Load a pre-trained checkpoint (optional, you can skip this if training from scratch)\n",
        "checkpoint = 'path_to_pretrained_checkpoint.pth'  # If available, you can use a pre-trained checkpoint\n",
        "model.load_checkpoint(checkpoint)\n",
        "\n",
        "# Set the model to evaluation mode (since we are only extracting features)\n",
        "model.eval()\n"
      ],
      "metadata": {
        "id": "eoJMs0uCy-Dc"
      },
      "execution_count": null,
      "outputs": []
    },
    {
      "cell_type": "markdown",
      "source": [
        "**Process the data from .bin format to feed to the model**"
      ],
      "metadata": {
        "id": "FzPxHGkVzYST"
      }
    },
    {
      "cell_type": "code",
      "source": [
        "# Load the point cloud data (after converting to .bin format)\n",
        "pcd_data = np.fromfile(\"path_to_your_output_data.bin\", dtype=np.float32).reshape(-1, 4)  # (N, 4) format\n",
        "\n",
        "# Create a dictionary with the points data\n",
        "data = dict(points=pcd_data)\n",
        "\n",
        "# Apply the preprocessing pipeline\n",
        "processed_data = test_pipeline(data)\n",
        "\n",
        "# Extract the processed point cloud data\n",
        "processed_points = processed_data['points'].unsqueeze(0)  # Add batch dimension\n"
      ],
      "metadata": {
        "id": "4L8UTcBjzeYv"
      },
      "execution_count": null,
      "outputs": []
    },
    {
      "cell_type": "markdown",
      "source": [
        "**Extract Features Using PointPillars**"
      ],
      "metadata": {
        "id": "Au-LZj1SzkGP"
      }
    },
    {
      "cell_type": "code",
      "source": [
        "# Forward pass through the model to extract features (no bbox head, just the backbone)\n",
        "with torch.no_grad():\n",
        "    extracted_features = model.extract_feat(processed_points)\n",
        "\n",
        "# Output the shape of the extracted features (this will be a tensor)\n",
        "print(f\"Extracted feature shape: {extracted_features.shape}\")\n"
      ],
      "metadata": {
        "id": "vmkCMG-_zlNR"
      },
      "execution_count": null,
      "outputs": []
    },
    {
      "cell_type": "markdown",
      "source": [
        "**Save the model**"
      ],
      "metadata": {
        "id": "dvdpPYqVzqQK"
      }
    },
    {
      "cell_type": "code",
      "source": [
        "# Save the entire model (architecture + weights)\n",
        "torch.save(model, 'pointpillars_feature_extractor.pth')\n",
        "\n"
      ],
      "metadata": {
        "id": "J7zlupoF0KDK"
      },
      "execution_count": null,
      "outputs": []
    }
  ]
}
