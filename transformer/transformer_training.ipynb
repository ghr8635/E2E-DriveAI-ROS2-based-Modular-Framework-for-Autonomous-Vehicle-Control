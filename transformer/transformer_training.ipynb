{
 "cells": [
  {
   "cell_type": "code",
   "execution_count": null,
   "metadata": {
    "vscode": {
     "languageId": "plaintext"
    }
   },
   "outputs": [],
   "source": [
    "from transformer import TimeSeriesTransformer\n",
    "from dataloader import dataloader"
   ]
  },
  {
   "cell_type": "code",
   "execution_count": null,
   "metadata": {
    "vscode": {
     "languageId": "plaintext"
    }
   },
   "outputs": [],
   "source": [
    "# Load features\n",
    "camera_features_path = \"/path/to/camera/features/folder\"\n",
    "lidar_features_path = \"/path/to/lidar/features/folder\"\n",
    "labels_path = \"/path/to/labels/excel/file.xlsx\""
   ]
  },
  {
   "cell_type": "code",
   "execution_count": null,
   "metadata": {
    "vscode": {
     "languageId": "plaintext"
    }
   },
   "outputs": [],
   "source": [
    "X_train, X_val, y_train, y_val = dataloader(camera_features_path, lidar_features_path, labels_path)"
   ]
  },
  {
   "cell_type": "code",
   "execution_count": null,
   "metadata": {
    "vscode": {
     "languageId": "plaintext"
    }
   },
   "outputs": [],
   "source": [
    "# Update output_dim to match the number of predictions (steering angle + velocity)\n",
    "output_dim = 2  # For steering angle and velocity\n",
    "model = TimeSeriesTransformer(input_dim=X_train.shape[2], d_model=128, nhead=8, num_layers=4, \n",
    "                               output_dim=output_dim, seq_length=X_train.shape[1])\n"
   ]
  },
  {
   "cell_type": "code",
   "execution_count": null,
   "metadata": {
    "vscode": {
     "languageId": "plaintext"
    }
   },
   "outputs": [],
   "source": [
    "# Training loop\n",
    "criterion = nn.MSELoss()\n",
    "optimizer = torch.optim.Adam(model.parameters(), lr=0.001)\n",
    "\n",
    "from torch.utils.data import DataLoader, TensorDataset\n",
    "\n",
    "train_dataset = TensorDataset(torch.Tensor(X_train), torch.Tensor(y_train))\n",
    "val_dataset = TensorDataset(torch.Tensor(X_val), torch.Tensor(y_val))\n",
    "\n",
    "train_loader = DataLoader(train_dataset, batch_size=32, shuffle=True)\n",
    "val_loader = DataLoader(val_dataset, batch_size=32)\n",
    "\n",
    "epochs = 10  # Adjust based on performance\n",
    "for epoch in range(epochs):\n",
    "    model.train()\n",
    "    train_loss = 0\n",
    "    for X_batch, y_batch in train_loader:\n",
    "        optimizer.zero_grad()\n",
    "        output = model(X_batch)\n",
    "        loss = criterion(output, y_batch)\n",
    "        loss.backward()\n",
    "        optimizer.step()\n",
    "        train_loss += loss.item()\n",
    "\n",
    "    val_loss = 0\n",
    "    model.eval()\n",
    "    with torch.no_grad():\n",
    "        for X_batch, y_batch in val_loader:\n",
    "            output = model(X_batch)\n",
    "            loss = criterion(output, y_batch)\n",
    "            val_loss += loss.item()\n",
    "\n",
    "    print(f\"Epoch {epoch+1}, Train Loss: {train_loss / len(train_loader)}, Val Loss: {val_loss / len(val_loader)}\")\n"
   ]
  },
  {
   "cell_type": "code",
   "execution_count": null,
   "metadata": {
    "vscode": {
     "languageId": "plaintext"
    }
   },
   "outputs": [],
   "source": [
    "model.eval()\n",
    "predictions, actuals = [], []\n",
    "\n",
    "with torch.no_grad():\n",
    "    for X_batch, y_batch in val_loader:\n",
    "        output = model(X_batch)\n",
    "        predictions.append(output)\n",
    "        actuals.append(y_batch)\n",
    "\n",
    "predictions = torch.cat(predictions).numpy()\n",
    "actuals = torch.cat(actuals).numpy()\n",
    "\n",
    "# Inverse scaling\n",
    "predictions = scaler_labels.inverse_transform(predictions)\n",
    "actuals = scaler_labels.inverse_transform(actuals)\n"
   ]
  },
  {
   "cell_type": "code",
   "execution_count": null,
   "metadata": {
    "vscode": {
     "languageId": "plaintext"
    }
   },
   "outputs": [],
   "source": [
    "import matplotlib.pyplot as plt\n",
    "\n",
    "# Plot Steering Angle\n",
    "plt.figure(figsize=(10, 5))\n",
    "plt.plot(actuals[:100, 0], label='Actual Steering Angle')\n",
    "plt.plot(predictions[:100, 0], label='Predicted Steering Angle')\n",
    "plt.legend()\n",
    "plt.title(\"Steering Angle Prediction\")\n",
    "plt.show()\n",
    "\n",
    "# Plot Velocity\n",
    "plt.figure(figsize=(10, 5))\n",
    "plt.plot(actuals[:100, 1], label='Actual Velocity')\n",
    "plt.plot(predictions[:100, 1], label='Predicted Velocity')\n",
    "plt.legend()\n",
    "plt.title(\"Velocity Prediction\")\n",
    "plt.show()\n"
   ]
  }
 ],
 "metadata": {
  "language_info": {
   "name": "python"
  }
 },
 "nbformat": 4,
 "nbformat_minor": 2
}
