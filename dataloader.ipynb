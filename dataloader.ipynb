{
 "cells": [
  {
   "cell_type": "code",
   "execution_count": null,
   "metadata": {
    "vscode": {
     "languageId": "plaintext"
    }
   },
   "outputs": [],
   "source": [
    "import numpy as np\n",
    "import pandas as pd\n",
    "\n",
    "# Load features\n",
    "camera_features_path = \"/path/to/camera/features/folder\"\n",
    "lidar_features_path = \"/path/to/lidar/features/folder\"\n",
    "labels_path = \"/path/to/labels/excel/file.xlsx\"\n",
    "\n",
    "# Assuming each feature file corresponds to a timestamp\n",
    "camera_features = [np.load(f\"{camera_features_path}/{file}\") for file in sorted(os.listdir(camera_features_path))]\n",
    "lidar_features = [np.load(f\"{lidar_features_path}/{file}\") for file in sorted(os.listdir(lidar_features_path))]\n",
    "\n",
    "# Load labels\n",
    "labels_df = pd.read_excel(labels_path)\n",
    "steering_angles = labels_df['steering_angle'].values\n",
    "velocities = labels_df['velocity'].values\n",
    "\n",
    "# Combine features (camera + LiDAR)\n",
    "combined_features = [np.concatenate((cam, lidar), axis=1) for cam, lidar in zip(camera_features, lidar_features)]\n"
   ]
  },
  {
   "cell_type": "code",
   "execution_count": null,
   "metadata": {
    "vscode": {
     "languageId": "plaintext"
    }
   },
   "outputs": [],
   "source": [
    "from sklearn.preprocessing import MinMaxScaler\n",
    "\n",
    "# Normalize combined features and labels\n",
    "scaler_features = MinMaxScaler()\n",
    "scaler_labels = MinMaxScaler()\n",
    "\n",
    "combined_features = scaler_features.fit_transform(np.array(combined_features).reshape(-1, combined_features[0].shape[1]))\n",
    "labels = scaler_labels.fit_transform(np.column_stack((steering_angles, velocities)))\n"
   ]
  },
  {
   "cell_type": "code",
   "execution_count": null,
   "metadata": {
    "vscode": {
     "languageId": "plaintext"
    }
   },
   "outputs": [],
   "source": [
    "def create_sequences(features, labels, seq_length=48):\n",
    "    X, y = [], []\n",
    "    for i in range(len(features) - seq_length):\n",
    "        X.append(features[i:i + seq_length])\n",
    "        y.append(labels[i + seq_length])\n",
    "    return np.array(X), np.array(y)\n",
    "\n",
    "seq_length = 48\n",
    "X, y = create_sequences(combined_features, labels, seq_length)\n"
   ]
  },
  {
   "cell_type": "code",
   "execution_count": null,
   "metadata": {
    "vscode": {
     "languageId": "plaintext"
    }
   },
   "outputs": [],
   "source": [
    "train_size = int(len(X) * 0.8)\n",
    "X_train, X_val = X[:train_size], X[train_size:]\n",
    "y_train, y_val = y[:train_size], y[train_size:]\n"
   ]
  },
  {
   "cell_type": "code",
   "execution_count": null,
   "metadata": {
    "vscode": {
     "languageId": "plaintext"
    }
   },
   "outputs": [],
   "source": [
    "# Update output_dim to match the number of predictions (steering angle + velocity)\n",
    "output_dim = 2  # For steering angle and velocity\n",
    "model = TimeSeriesTransformer(input_dim=X_train.shape[2], d_model=128, nhead=8, num_layers=4, \n",
    "                               output_dim=output_dim, seq_length=X_train.shape[1])\n"
   ]
  },
  {
   "cell_type": "code",
   "execution_count": null,
   "metadata": {
    "vscode": {
     "languageId": "plaintext"
    }
   },
   "outputs": [],
   "source": [
    "# Training loop\n",
    "criterion = nn.MSELoss()\n",
    "optimizer = torch.optim.Adam(model.parameters(), lr=0.001)\n",
    "\n",
    "from torch.utils.data import DataLoader, TensorDataset\n",
    "\n",
    "train_dataset = TensorDataset(torch.Tensor(X_train), torch.Tensor(y_train))\n",
    "val_dataset = TensorDataset(torch.Tensor(X_val), torch.Tensor(y_val))\n",
    "\n",
    "train_loader = DataLoader(train_dataset, batch_size=32, shuffle=True)\n",
    "val_loader = DataLoader(val_dataset, batch_size=32)\n",
    "\n",
    "epochs = 10  # Adjust based on performance\n",
    "for epoch in range(epochs):\n",
    "    model.train()\n",
    "    train_loss = 0\n",
    "    for X_batch, y_batch in train_loader:\n",
    "        optimizer.zero_grad()\n",
    "        output = model(X_batch)\n",
    "        loss = criterion(output, y_batch)\n",
    "        loss.backward()\n",
    "        optimizer.step()\n",
    "        train_loss += loss.item()\n",
    "\n",
    "    val_loss = 0\n",
    "    model.eval()\n",
    "    with torch.no_grad():\n",
    "        for X_batch, y_batch in val_loader:\n",
    "            output = model(X_batch)\n",
    "            loss = criterion(output, y_batch)\n",
    "            val_loss += loss.item()\n",
    "\n",
    "    print(f\"Epoch {epoch+1}, Train Loss: {train_loss / len(train_loader)}, Val Loss: {val_loss / len(val_loader)}\")\n"
   ]
  },
  {
   "cell_type": "code",
   "execution_count": null,
   "metadata": {
    "vscode": {
     "languageId": "plaintext"
    }
   },
   "outputs": [],
   "source": [
    "model.eval()\n",
    "predictions, actuals = [], []\n",
    "\n",
    "with torch.no_grad():\n",
    "    for X_batch, y_batch in val_loader:\n",
    "        output = model(X_batch)\n",
    "        predictions.append(output)\n",
    "        actuals.append(y_batch)\n",
    "\n",
    "predictions = torch.cat(predictions).numpy()\n",
    "actuals = torch.cat(actuals).numpy()\n",
    "\n",
    "# Inverse scaling\n",
    "predictions = scaler_labels.inverse_transform(predictions)\n",
    "actuals = scaler_labels.inverse_transform(actuals)\n"
   ]
  },
  {
   "cell_type": "code",
   "execution_count": null,
   "metadata": {
    "vscode": {
     "languageId": "plaintext"
    }
   },
   "outputs": [],
   "source": [
    "import matplotlib.pyplot as plt\n",
    "\n",
    "# Plot Steering Angle\n",
    "plt.figure(figsize=(10, 5))\n",
    "plt.plot(actuals[:100, 0], label='Actual Steering Angle')\n",
    "plt.plot(predictions[:100, 0], label='Predicted Steering Angle')\n",
    "plt.legend()\n",
    "plt.title(\"Steering Angle Prediction\")\n",
    "plt.show()\n",
    "\n",
    "# Plot Velocity\n",
    "plt.figure(figsize=(10, 5))\n",
    "plt.plot(actuals[:100, 1], label='Actual Velocity')\n",
    "plt.plot(predictions[:100, 1], label='Predicted Velocity')\n",
    "plt.legend()\n",
    "plt.title(\"Velocity Prediction\")\n",
    "plt.show()\n"
   ]
  }
 ],
 "metadata": {
  "language_info": {
   "name": "python"
  }
 },
 "nbformat": 4,
 "nbformat_minor": 2
}
