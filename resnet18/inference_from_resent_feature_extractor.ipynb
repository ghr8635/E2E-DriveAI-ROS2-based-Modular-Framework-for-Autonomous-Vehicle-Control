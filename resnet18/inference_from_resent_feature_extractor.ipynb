{
  "cells": [
    {
      "cell_type": "markdown",
      "metadata": {
        "colab_type": "text",
        "id": "view-in-github"
      },
      "source": [
        "<a href=\"https://colab.research.google.com/github/ghr8635/E2E-DriveAI-ROS2-based-Modular-Framework-for-Autonomous-Vehicle-Control/blob/main/inference_from_resent_feature_extractor.ipynb\" target=\"_parent\"><img src=\"https://colab.research.google.com/assets/colab-badge.svg\" alt=\"Open In Colab\"/></a>"
      ]
    },
    {
      "cell_type": "code",
      "execution_count": 1,
      "metadata": {
        "colab": {
          "base_uri": "https://localhost:8080/"
        },
        "id": "5-eRqDXz12mx",
        "outputId": "a031b77f-a2e2-4fb0-81fb-7394403e79b2"
      },
      "outputs": [
        {
          "name": "stdout",
          "output_type": "stream",
          "text": [
            "Mounted at /content/drive\n"
          ]
        }
      ],
      "source": [
        "from google.colab import drive\n",
        "drive.mount('/content/drive')"
      ]
    },
    {
      "cell_type": "code",
      "execution_count": 2,
      "metadata": {
        "id": "HvNj7W_S3Ej6"
      },
      "outputs": [],
      "source": [
        "import torch\n",
        "import torch.nn as nn\n",
        "from torchvision import models, transforms\n",
        "from PIL import Image"
      ]
    },
    {
      "cell_type": "code",
      "execution_count": 6,
      "metadata": {
        "colab": {
          "base_uri": "https://localhost:8080/"
        },
        "id": "NRYeS-hy19Yt",
        "outputId": "c9e93a99-cfac-4f40-94e1-425a208f9099"
      },
      "outputs": [
        {
          "name": "stderr",
          "output_type": "stream",
          "text": [
            "c:\\Users\\hussa\\anaconda3\\Lib\\site-packages\\torchvision\\models\\_utils.py:208: UserWarning: The parameter 'pretrained' is deprecated since 0.13 and may be removed in the future, please use 'weights' instead.\n",
            "  warnings.warn(\n",
            "c:\\Users\\hussa\\anaconda3\\Lib\\site-packages\\torchvision\\models\\_utils.py:223: UserWarning: Arguments other than a weight enum or `None` for 'weights' are deprecated since 0.13 and may be removed in the future. The current behavior is equivalent to passing `weights=None`.\n",
            "  warnings.warn(msg)\n"
          ]
        }
      ],
      "source": [
        "my_model = r'C:\\Users\\hussa\\OneDrive\\Desktop\\Projects\\ROS2-Modular-Framework-for-End-to-End-Autonomous-Vehicle-Control-from-Raw-Sensor-Data\\resnet18\\trained models\\feature_extractor_resnet18.pth'\n",
        "\n",
        "model = models.resnet18(pretrained=False)\n",
        "model.fc = nn.Linear(model.fc.in_features, 10)\n",
        "model.load_state_dict(torch.load(my_model), strict=True)\n",
        "model.fc = torch.nn.Identity()\n",
        "device = torch.device(\"cuda\" if torch.cuda.is_available() else \"cpu\")\n",
        "model = model.to(device)"
      ]
    },
    {
      "cell_type": "code",
      "execution_count": 11,
      "metadata": {
        "id": "RgfAcFW42d23"
      },
      "outputs": [],
      "source": [
        "my_image = r\"C:\\Users\\hussa\\OneDrive\\Desktop\\Projects\\Project\\MOT\\INFRA-3DRC_scene-15\\INFRA-3DRC_scene-15\\camera_01\\camera_01__data\\camera_01__2023-06-02-21-28-11-114.png\"\n",
        "\n",
        "transform = transforms.Compose([\n",
        "            transforms.ToPILImage(),\n",
        "            transforms.Resize((224, 224)),  # Adjust to your model's input size\n",
        "            transforms.ToTensor(),\n",
        "            transforms.Normalize(mean=[0.485, 0.456, 0.406], std=[0.229, 0.224, 0.225])\n",
        "        ])\n",
        "device = torch.device(\"cuda\" if torch.cuda.is_available() else \"cpu\")\n",
        "\n",
        "img = Image.open(my_image)\n",
        "\n",
        "# Apply transformations\n",
        "img = transform(img)\n",
        "\n",
        "# Add batch dimension\n",
        "img = img.unsqueeze(0)\n",
        "img = img.to(device)\n",
        "\n",
        "\n"
      ]
    },
    {
      "cell_type": "code",
      "execution_count": 14,
      "metadata": {
        "colab": {
          "base_uri": "https://localhost:8080/"
        },
        "id": "E7EXjrwx2kZU",
        "outputId": "3a5098dc-408b-464d-8969-ff6ef1fc7094"
      },
      "outputs": [
        {
          "name": "stdout",
          "output_type": "stream",
          "text": [
            "torch.Size([512])\n",
            "tensor([0.8432, 0.7705, 0.8087, 1.0307, 0.7593, 0.8299, 0.7650, 1.0814, 0.7951,\n",
            "        0.7536, 0.6781, 0.7696, 0.7543, 0.9128, 0.8330, 0.8541, 0.7809, 1.0725,\n",
            "        0.7268, 0.5710, 0.7486, 0.8657, 0.8775, 0.8136, 0.7527, 0.8423, 0.8345,\n",
            "        0.8055, 0.7666, 0.6872, 0.6337, 0.8444, 0.8120, 0.7712, 0.7215, 0.6396,\n",
            "        0.6078, 0.6671, 0.6608, 0.7998, 0.6520, 0.7142, 0.7945, 0.7916, 0.7462,\n",
            "        0.7524, 0.7729, 0.9833, 0.9092, 0.7399, 0.9664, 0.8597, 0.8047, 0.7353,\n",
            "        0.7613, 0.8924, 1.0821, 0.7310, 0.8786, 0.6628, 0.6973, 0.8702, 0.7945,\n",
            "        0.8143, 0.8759, 0.9096, 0.5860, 0.8388, 0.8558, 0.7402, 0.6586, 0.5262,\n",
            "        0.7420, 0.7896, 0.7153, 0.7479, 0.7792, 0.7705, 0.7381, 0.7831, 0.7165,\n",
            "        0.8697, 0.9609, 1.0684, 0.6012, 0.7590, 0.8057, 0.7616, 0.7648, 0.6581,\n",
            "        0.6460, 0.7218, 0.7948, 0.6638, 0.6547, 0.7741, 0.6963, 0.6778, 0.8209,\n",
            "        0.6950, 0.9124, 0.9453, 0.9559, 0.7661, 0.6942, 0.6845, 0.7830, 0.8699,\n",
            "        0.7512, 0.7365, 0.6683, 0.8353, 0.7982, 0.6787, 0.8141, 0.8161, 0.7745,\n",
            "        0.8040, 0.6951, 0.7548, 0.7736, 0.7467, 0.6892, 0.6676, 0.7966, 0.5723,\n",
            "        0.7561, 0.8018, 0.6436, 0.8532, 0.6318, 0.7932, 0.6568, 0.7572, 0.9609,\n",
            "        1.0215, 0.6666, 0.8992, 0.6784, 0.6436, 0.7835, 0.8904, 0.8185, 0.7335,\n",
            "        0.8053, 0.7901, 0.8100, 0.8317, 0.8580, 0.8805, 0.7418, 0.7503, 0.7574,\n",
            "        0.6920, 0.7289, 0.8442, 0.9695, 0.8623, 0.8338, 0.7849, 0.7993, 1.1312,\n",
            "        0.7715, 1.1681, 0.8076, 0.9923, 0.9705, 0.8151, 0.8447, 0.8228, 0.7729,\n",
            "        0.8148, 0.8006, 0.7289, 0.7178, 0.6961, 0.7641, 0.6331, 0.9552, 0.7039,\n",
            "        0.8874, 0.7387, 1.0514, 0.7057, 1.0076, 0.8275, 0.8122, 0.9356, 0.8580,\n",
            "        0.7788, 0.6719, 0.7174, 0.7100, 1.0074, 0.4780, 0.7816, 0.6700, 0.6162,\n",
            "        0.6996, 0.7882, 0.7110, 0.8292, 0.9761, 0.6136, 0.9860, 0.7770, 0.7753,\n",
            "        0.8589, 0.6821, 1.0478, 0.7195, 0.7697, 0.5952, 0.7836, 0.9639, 0.8520,\n",
            "        0.7216, 0.7906, 0.6711, 0.8475, 0.8893, 0.9267, 0.7723, 0.8622, 0.7305,\n",
            "        0.7341, 0.8529, 0.6977, 1.0357, 0.6343, 0.8904, 0.7815, 0.7689, 0.7891,\n",
            "        0.7218, 0.7262, 0.8756, 0.8375, 0.7429, 0.7603, 0.6641, 0.7285, 0.9138,\n",
            "        0.7085, 0.8620, 0.7903, 0.6138, 0.7819, 0.7910, 1.0457, 0.8720, 0.7737,\n",
            "        0.7790, 0.9009, 0.6824, 1.1704, 0.8190, 0.9491, 0.8790, 0.8874, 0.8693,\n",
            "        0.7062, 0.7638, 0.8276, 0.7461, 0.7772, 0.7797, 0.8512, 0.8874, 0.7262,\n",
            "        0.7180, 0.7411, 0.7728, 0.7530, 0.7686, 0.8050, 0.9773, 0.8498, 0.7612,\n",
            "        0.7767, 1.1832, 0.7127, 0.7394, 0.6530, 0.8010, 0.7082, 0.7837, 0.7713,\n",
            "        0.9156, 0.6885, 0.8102, 0.7106, 0.8008, 0.7902, 0.8180, 0.7843, 0.7805,\n",
            "        1.0814, 0.7944, 0.7810, 0.9257, 0.7880, 0.7592, 0.7455, 1.0412, 0.8354,\n",
            "        0.7202, 0.7479, 0.8166, 0.8664, 0.8405, 0.6381, 0.8939, 0.7169, 0.8417,\n",
            "        0.8832, 0.8748, 0.7345, 1.0809, 0.6052, 0.6542, 0.8759, 0.7729, 0.8302,\n",
            "        0.8526, 0.6744, 0.7729, 0.5940, 0.7067, 0.6805, 0.8140, 0.6817, 0.7039,\n",
            "        0.6295, 0.6357, 0.7146, 0.9138, 0.7864, 0.7897, 0.8106, 0.7419, 0.7406,\n",
            "        0.7346, 0.9545, 0.7989, 0.8115, 0.7436, 0.7703, 0.7461, 0.7376, 0.8668,\n",
            "        0.6201, 0.7459, 0.9308, 0.7527, 0.6548, 0.7775, 0.9833, 0.8674, 0.8131,\n",
            "        0.7793, 0.7486, 0.7563, 0.7633, 0.8099, 0.8998, 0.8744, 0.6902, 0.7249,\n",
            "        0.7920, 0.9937, 0.6588, 0.7808, 0.8526, 0.6560, 0.8213, 0.6418, 0.8006,\n",
            "        0.8177, 0.7063, 0.8664, 0.6607, 0.7753, 0.8174, 0.9452, 0.8440, 0.6901,\n",
            "        1.0333, 0.6871, 0.7229, 0.6927, 0.6942, 0.7826, 0.8396, 0.9506, 0.8061,\n",
            "        0.7116, 0.6050, 0.8670, 0.8211, 1.0294, 1.0348, 0.5683, 0.7527, 0.8578,\n",
            "        0.6922, 0.8905, 0.7146, 0.7005, 0.6848, 0.9348, 0.8642, 0.7273, 0.7574,\n",
            "        0.7270, 0.8082, 0.8072, 0.7369, 0.8244, 0.7139, 0.7220, 0.7878, 0.9540,\n",
            "        0.5552, 0.9478, 0.6243, 0.9435, 0.7573, 0.8347, 0.8193, 0.7148, 0.8457,\n",
            "        0.8073, 0.5652, 0.8483, 0.9168, 0.7740, 0.7647, 0.6562, 0.7885, 0.6884,\n",
            "        0.8482, 0.7345, 0.8933, 0.8879, 0.8257, 0.7833, 0.8216, 1.0621, 0.7667,\n",
            "        0.8819, 0.8603, 0.7035, 0.8365, 0.7714, 0.7298, 0.7321, 0.8215, 0.8827,\n",
            "        0.8617, 1.0829, 0.7177, 0.7369, 0.8393, 0.8814, 0.7682, 0.7891, 0.8837,\n",
            "        0.8204, 0.7341, 0.8237, 0.6739, 0.6934, 0.8491, 0.7484, 0.6922, 0.7229,\n",
            "        0.7237, 0.6408, 0.7446, 0.7839, 0.8989, 0.7328, 0.6820, 0.7687, 0.6832,\n",
            "        0.8627, 0.7379, 1.0172, 0.7519, 0.8881, 0.8495, 0.9152, 0.8704, 0.8164,\n",
            "        0.8225, 0.7630, 0.8109, 0.7975, 0.8149, 0.7650, 0.8561, 0.7432, 0.7192,\n",
            "        0.7998, 0.7731, 0.9820, 1.0240, 0.8381, 0.8660, 0.9832, 0.9512],\n",
            "       grad_fn=<SelectBackward0>)\n"
          ]
        }
      ],
      "source": [
        "features = model(img)\n",
        "features = features [0]\n",
        "\n",
        "\n",
        "print(features.shape)\n",
        "print(features)"
      ]
    }
  ],
  "metadata": {
    "accelerator": "GPU",
    "colab": {
      "gpuType": "T4",
      "include_colab_link": true,
      "provenance": []
    },
    "kernelspec": {
      "display_name": "base",
      "language": "python",
      "name": "python3"
    },
    "language_info": {
      "codemirror_mode": {
        "name": "ipython",
        "version": 3
      },
      "file_extension": ".py",
      "mimetype": "text/x-python",
      "name": "python",
      "nbconvert_exporter": "python",
      "pygments_lexer": "ipython3",
      "version": "3.11.7"
    }
  },
  "nbformat": 4,
  "nbformat_minor": 0
}
