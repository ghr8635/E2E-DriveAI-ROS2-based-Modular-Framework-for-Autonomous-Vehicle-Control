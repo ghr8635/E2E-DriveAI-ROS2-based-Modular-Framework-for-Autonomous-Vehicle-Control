{
  "cells": [
    {
      "cell_type": "markdown",
      "metadata": {
        "colab_type": "text",
        "id": "view-in-github"
      },
      "source": [
        "<a href=\"https://colab.research.google.com/github/ghr8635/E2E-DriveAI-ROS2-based-Modular-Framework-for-Autonomous-Vehicle-Control/blob/main/inference_from_resent_feature_extractor.ipynb\" target=\"_parent\"><img src=\"https://colab.research.google.com/assets/colab-badge.svg\" alt=\"Open In Colab\"/></a>"
      ]
    },
    {
      "cell_type": "code",
      "execution_count": 1,
      "metadata": {
        "colab": {
          "base_uri": "https://localhost:8080/"
        },
        "id": "5-eRqDXz12mx",
        "outputId": "a031b77f-a2e2-4fb0-81fb-7394403e79b2"
      },
      "outputs": [
        {
          "name": "stdout",
          "output_type": "stream",
          "text": [
            "Mounted at /content/drive\n"
          ]
        }
      ],
      "source": [
        "from google.colab import drive\n",
        "drive.mount('/content/drive')"
      ]
    },
    {
      "cell_type": "code",
      "execution_count": 1,
      "metadata": {
        "id": "HvNj7W_S3Ej6"
      },
      "outputs": [],
      "source": [
        "import torch\n",
        "import torch.nn as nn\n",
        "from torchvision import models, transforms\n",
        "from PIL import Image"
      ]
    },
    {
      "cell_type": "code",
      "execution_count": 2,
      "metadata": {
        "colab": {
          "base_uri": "https://localhost:8080/"
        },
        "id": "NRYeS-hy19Yt",
        "outputId": "c9e93a99-cfac-4f40-94e1-425a208f9099"
      },
      "outputs": [
        {
          "name": "stderr",
          "output_type": "stream",
          "text": [
            "/home/linux1/.local/lib/python3.10/site-packages/torchvision/models/_utils.py:208: UserWarning: The parameter 'pretrained' is deprecated since 0.13 and may be removed in the future, please use 'weights' instead.\n",
            "  warnings.warn(\n",
            "/home/linux1/.local/lib/python3.10/site-packages/torchvision/models/_utils.py:223: UserWarning: Arguments other than a weight enum or `None` for 'weights' are deprecated since 0.13 and may be removed in the future. The current behavior is equivalent to passing `weights=None`.\n",
            "  warnings.warn(msg)\n",
            "/tmp/ipykernel_158207/887775720.py:5: FutureWarning: You are using `torch.load` with `weights_only=False` (the current default value), which uses the default pickle module implicitly. It is possible to construct malicious pickle data which will execute arbitrary code during unpickling (See https://github.com/pytorch/pytorch/blob/main/SECURITY.md#untrusted-models for more details). In a future release, the default value for `weights_only` will be flipped to `True`. This limits the functions that could be executed during unpickling. Arbitrary objects will no longer be allowed to be loaded via this mode unless they are explicitly allowlisted by the user via `torch.serialization.add_safe_globals`. We recommend you start setting `weights_only=True` for any use case where you don't have full control of the loaded file. Please open an issue on GitHub for any issues related to this experimental feature.\n",
            "  model.load_state_dict(torch.load(my_model))\n"
          ]
        }
      ],
      "source": [
        "my_model = '/home/linux1/E2E-DriveAI-ROS2-based-Modular-Framework-for-Autonomous-Vehicle-Control/resnet18/trained models/feature_extractor_resnet18.pth'\n",
        "\n",
        "model = models.resnet18(pretrained=False)\n",
        "model.fc = nn.Linear(model.fc.in_features, 10)\n",
        "model.load_state_dict(torch.load(my_model))\n",
        "model.fc = torch.nn.Identity()\n",
        "device = torch.device(\"cuda\" if torch.cuda.is_available() else \"cpu\")\n",
        "model = model.to(device)"
      ]
    },
    {
      "cell_type": "code",
      "execution_count": 4,
      "metadata": {
        "id": "RgfAcFW42d23"
      },
      "outputs": [],
      "source": [
        "my_image = '/home/linux1/my_image.png'\n",
        "\n",
        "transform = transforms.Compose([\n",
        "    transforms.Grayscale(num_output_channels=3),  # Convert 1-channel to 3-channel\n",
        "    transforms.Resize((224, 224)),  # Resize images to 224x224\n",
        "    transforms.ToTensor(),  # Convert to Tensor\n",
        "    transforms.Normalize((0.5, 0.5, 0.5), (0.5, 0.5, 0.5))  # Normalize the image\n",
        "])\n",
        "device = torch.device(\"cuda\" if torch.cuda.is_available() else \"cpu\")\n",
        "\n",
        "img = Image.open(my_image)\n",
        "\n",
        "# Apply transformations\n",
        "img = transform(img)\n",
        "\n",
        "# Add batch dimension\n",
        "img = img.unsqueeze(0)\n",
        "img = img.to(device)\n",
        "\n",
        "\n"
      ]
    },
    {
      "cell_type": "code",
      "execution_count": 7,
      "metadata": {
        "colab": {
          "base_uri": "https://localhost:8080/"
        },
        "id": "E7EXjrwx2kZU",
        "outputId": "3a5098dc-408b-464d-8969-ff6ef1fc7094"
      },
      "outputs": [
        {
          "name": "stdout",
          "output_type": "stream",
          "text": [
            "torch.Size([1, 3348, 512])\n",
            "tensor([[[0.8062, 0.7448, 0.6932,  ..., 0.8805, 0.9399, 0.8934],\n",
            "         [0.8062, 0.7448, 0.6932,  ..., 0.8805, 0.9399, 0.8934],\n",
            "         [0.8062, 0.7448, 0.6932,  ..., 0.8805, 0.9399, 0.8934],\n",
            "         ...,\n",
            "         [0.8062, 0.7448, 0.6932,  ..., 0.8805, 0.9399, 0.8934],\n",
            "         [0.8062, 0.7448, 0.6932,  ..., 0.8805, 0.9399, 0.8934],\n",
            "         [0.8062, 0.7448, 0.6932,  ..., 0.8805, 0.9399, 0.8934]]],\n",
            "       grad_fn=<RepeatBackward0>)\n"
          ]
        }
      ],
      "source": [
        "features = model(img)\n",
        "\n",
        "H = 62          #these values are obtaiend from pointpillar inference, in order to match \n",
        "W = 54\n",
        "resnet_features_repeated = features.unsqueeze(1).repeat(1, H * W, 1)  # [1, 3348, 512]\n",
        "\n",
        "print(resnet_features_repeated.shape)\n",
        "print(resnet_features_repeated)"
      ]
    }
  ],
  "metadata": {
    "accelerator": "GPU",
    "colab": {
      "gpuType": "T4",
      "include_colab_link": true,
      "provenance": []
    },
    "kernelspec": {
      "display_name": "Python 3",
      "name": "python3"
    },
    "language_info": {
      "codemirror_mode": {
        "name": "ipython",
        "version": 3
      },
      "file_extension": ".py",
      "mimetype": "text/x-python",
      "name": "python",
      "nbconvert_exporter": "python",
      "pygments_lexer": "ipython3",
      "version": "3.10.12"
    }
  },
  "nbformat": 4,
  "nbformat_minor": 0
}
