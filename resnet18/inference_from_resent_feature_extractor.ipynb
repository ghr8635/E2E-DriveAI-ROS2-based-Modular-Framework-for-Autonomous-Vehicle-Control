{
  "nbformat": 4,
  "nbformat_minor": 0,
  "metadata": {
    "colab": {
      "provenance": [],
      "gpuType": "T4",
      "include_colab_link": true
    },
    "kernelspec": {
      "name": "python3",
      "display_name": "Python 3"
    },
    "language_info": {
      "name": "python"
    },
    "accelerator": "GPU"
  },
  "cells": [
    {
      "cell_type": "markdown",
      "metadata": {
        "id": "view-in-github",
        "colab_type": "text"
      },
      "source": [
        "<a href=\"https://colab.research.google.com/github/ghr8635/E2E-DriveAI-ROS2-based-Modular-Framework-for-Autonomous-Vehicle-Control/blob/main/inference_from_resent_feature_extractor.ipynb\" target=\"_parent\"><img src=\"https://colab.research.google.com/assets/colab-badge.svg\" alt=\"Open In Colab\"/></a>"
      ]
    },
    {
      "cell_type": "code",
      "execution_count": 1,
      "metadata": {
        "id": "5-eRqDXz12mx",
        "outputId": "a031b77f-a2e2-4fb0-81fb-7394403e79b2",
        "colab": {
          "base_uri": "https://localhost:8080/"
        }
      },
      "outputs": [
        {
          "output_type": "stream",
          "name": "stdout",
          "text": [
            "Mounted at /content/drive\n"
          ]
        }
      ],
      "source": [
        "from google.colab import drive\n",
        "drive.mount('/content/drive')"
      ]
    },
    {
      "cell_type": "code",
      "source": [
        "import torch\n",
        "import torch.nn as nn\n",
        "from torchvision import models, transforms\n",
        "from PIL import Image"
      ],
      "metadata": {
        "id": "HvNj7W_S3Ej6"
      },
      "execution_count": 8,
      "outputs": []
    },
    {
      "cell_type": "code",
      "source": [
        "my_model = '/content/drive/MyDrive/ROS2-Modular-Framework-for-End-to-End-Autonomous-Vehicle-Control-from-Raw-Sensor-Data/feature_extractor_resnet18.pth'\n",
        "\n",
        "model = models.resnet18(pretrained=False)\n",
        "model.fc = nn.Linear(model.fc.in_features, 10)\n",
        "model.load_state_dict(torch.load(my_model))\n",
        "model.fc = torch.nn.Identity()\n",
        "device = torch.device(\"cuda\" if torch.cuda.is_available() else \"cpu\")\n",
        "model = model.to(device)"
      ],
      "metadata": {
        "colab": {
          "base_uri": "https://localhost:8080/"
        },
        "id": "NRYeS-hy19Yt",
        "outputId": "c9e93a99-cfac-4f40-94e1-425a208f9099"
      },
      "execution_count": 14,
      "outputs": [
        {
          "output_type": "stream",
          "name": "stderr",
          "text": [
            "/usr/local/lib/python3.10/dist-packages/torchvision/models/_utils.py:208: UserWarning: The parameter 'pretrained' is deprecated since 0.13 and may be removed in the future, please use 'weights' instead.\n",
            "  warnings.warn(\n",
            "/usr/local/lib/python3.10/dist-packages/torchvision/models/_utils.py:223: UserWarning: Arguments other than a weight enum or `None` for 'weights' are deprecated since 0.13 and may be removed in the future. The current behavior is equivalent to passing `weights=None`.\n",
            "  warnings.warn(msg)\n",
            "<ipython-input-14-d9297d195431>:5: FutureWarning: You are using `torch.load` with `weights_only=False` (the current default value), which uses the default pickle module implicitly. It is possible to construct malicious pickle data which will execute arbitrary code during unpickling (See https://github.com/pytorch/pytorch/blob/main/SECURITY.md#untrusted-models for more details). In a future release, the default value for `weights_only` will be flipped to `True`. This limits the functions that could be executed during unpickling. Arbitrary objects will no longer be allowed to be loaded via this mode unless they are explicitly allowlisted by the user via `torch.serialization.add_safe_globals`. We recommend you start setting `weights_only=True` for any use case where you don't have full control of the loaded file. Please open an issue on GitHub for any issues related to this experimental feature.\n",
            "  model.load_state_dict(torch.load(my_model))\n"
          ]
        }
      ]
    },
    {
      "cell_type": "code",
      "source": [
        "my_image = '/content/drive/MyDrive/ROS2-Modular-Framework-for-End-to-End-Autonomous-Vehicle-Control-from-Raw-Sensor-Data/camera_01__2023-06-02-21-28-12-081.png'\n",
        "\n",
        "transform = transforms.Compose([\n",
        "    transforms.Grayscale(num_output_channels=3),  # Convert 1-channel to 3-channel\n",
        "    transforms.Resize((224, 224)),  # Resize images to 224x224\n",
        "    transforms.ToTensor(),  # Convert to Tensor\n",
        "    transforms.Normalize((0.5, 0.5, 0.5), (0.5, 0.5, 0.5))  # Normalize the image\n",
        "])\n",
        "device = torch.device(\"cuda\" if torch.cuda.is_available() else \"cpu\")\n",
        "\n",
        "img = Image.open(my_image)\n",
        "\n",
        "# Apply transformations\n",
        "img = transform(img)\n",
        "\n",
        "# Add batch dimension\n",
        "img = img.unsqueeze(0)\n",
        "img = img.to(device)\n",
        "\n",
        "\n"
      ],
      "metadata": {
        "id": "RgfAcFW42d23"
      },
      "execution_count": 15,
      "outputs": []
    },
    {
      "cell_type": "code",
      "source": [
        "features = model(img)\n",
        "print(features.shape)\n",
        "print(features)"
      ],
      "metadata": {
        "colab": {
          "base_uri": "https://localhost:8080/"
        },
        "id": "E7EXjrwx2kZU",
        "outputId": "3a5098dc-408b-464d-8969-ff6ef1fc7094"
      },
      "execution_count": 16,
      "outputs": [
        {
          "output_type": "stream",
          "name": "stdout",
          "text": [
            "torch.Size([1, 512])\n",
            "tensor([[0.8196, 0.7719, 0.7851, 1.0971, 0.8548, 0.8224, 0.7754, 1.1737, 0.7393,\n",
            "         0.7470, 0.6445, 0.7698, 0.7273, 0.9021, 0.7506, 0.8625, 0.7567, 1.1000,\n",
            "         0.7376, 0.5561, 0.7539, 0.9323, 0.7689, 0.7948, 0.7384, 0.8482, 0.8543,\n",
            "         0.7628, 0.7576, 0.7002, 0.6439, 0.8547, 0.8577, 0.7522, 0.7206, 0.6821,\n",
            "         0.6085, 0.7745, 0.6753, 0.7985, 0.6943, 0.7285, 0.7887, 0.8735, 0.7817,\n",
            "         0.7991, 0.7878, 0.9775, 0.8786, 0.8050, 0.9577, 0.8734, 0.7319, 0.7501,\n",
            "         0.6161, 0.9058, 1.0304, 0.6805, 0.8872, 0.7219, 0.7292, 0.8060, 0.8134,\n",
            "         0.8380, 0.7983, 0.9628, 0.5501, 0.7891, 0.8238, 0.7799, 0.6528, 0.5510,\n",
            "         0.7958, 0.7562, 0.7758, 0.7594, 0.8518, 0.7372, 0.7481, 0.7538, 0.7286,\n",
            "         0.7758, 0.9186, 1.1174, 0.6806, 0.7391, 0.7768, 0.7864, 0.7091, 0.6949,\n",
            "         0.6496, 0.7527, 0.7660, 0.6501, 0.6810, 0.7671, 0.7414, 0.6336, 0.8067,\n",
            "         0.6751, 0.9154, 0.9227, 1.0101, 0.7895, 0.6696, 0.7004, 0.7216, 0.8887,\n",
            "         0.7113, 0.7195, 0.7093, 0.7982, 0.7496, 0.6485, 0.7919, 0.7887, 0.7710,\n",
            "         0.7937, 0.6944, 0.7800, 0.8471, 0.7253, 0.6811, 0.6869, 0.7487, 0.5875,\n",
            "         0.8169, 0.8706, 0.6209, 0.8883, 0.7018, 0.7638, 0.6261, 0.8407, 0.9917,\n",
            "         0.9972, 0.6432, 0.9264, 0.6654, 0.6974, 0.7954, 0.8799, 0.7967, 0.6701,\n",
            "         0.7708, 0.8018, 0.7815, 0.8386, 0.7836, 0.8336, 0.7005, 0.6785, 0.7774,\n",
            "         0.7227, 0.7096, 0.8448, 0.9247, 0.8343, 0.8673, 0.7339, 0.7855, 1.0854,\n",
            "         0.7549, 1.2473, 0.8469, 0.9178, 0.9788, 0.8940, 0.8747, 0.8133, 0.7659,\n",
            "         0.8134, 0.8065, 0.7531, 0.6958, 0.6935, 0.8639, 0.6891, 0.8896, 0.7133,\n",
            "         0.8720, 0.7609, 1.0848, 0.7631, 1.0189, 0.9015, 0.8111, 0.9102, 0.8643,\n",
            "         0.8441, 0.6204, 0.6916, 0.7637, 0.9511, 0.4699, 0.7869, 0.7162, 0.5766,\n",
            "         0.7143, 0.7405, 0.7791, 0.8533, 0.9387, 0.6614, 0.9763, 0.7431, 0.7854,\n",
            "         0.7940, 0.6877, 0.9603, 0.6750, 0.8282, 0.5623, 0.7895, 0.9954, 0.8238,\n",
            "         0.7204, 0.7908, 0.6601, 0.8831, 0.8442, 0.9391, 0.7500, 0.7102, 0.7425,\n",
            "         0.8025, 0.8397, 0.7751, 1.0259, 0.6597, 0.8902, 0.7409, 0.7119, 0.8453,\n",
            "         0.7337, 0.6664, 0.8038, 0.8590, 0.7953, 0.8030, 0.6220, 0.7014, 0.9001,\n",
            "         0.6980, 0.8445, 0.8681, 0.6598, 0.7483, 0.8247, 1.0622, 0.8827, 0.7935,\n",
            "         0.8067, 0.8431, 0.6933, 1.1820, 0.8749, 0.8945, 0.8835, 0.8912, 0.8193,\n",
            "         0.6971, 0.7238, 0.7839, 0.7588, 0.8023, 0.7579, 0.7975, 0.8163, 0.7520,\n",
            "         0.6838, 0.7420, 0.7852, 0.8089, 0.7352, 0.7386, 0.9834, 0.8926, 0.7846,\n",
            "         0.7308, 1.1540, 0.7452, 0.7356, 0.6281, 0.8247, 0.6750, 0.7737, 0.7827,\n",
            "         0.8780, 0.7515, 0.7595, 0.7249, 0.8352, 0.7981, 0.8234, 0.7988, 0.7376,\n",
            "         1.0801, 0.7986, 0.7503, 0.8849, 0.7182, 0.7493, 0.7694, 1.0233, 0.8217,\n",
            "         0.7136, 0.8216, 0.8597, 0.8657, 0.7469, 0.6007, 0.9095, 0.6797, 0.7750,\n",
            "         0.8382, 0.8455, 0.6679, 1.0306, 0.6813, 0.5982, 0.8307, 0.6847, 0.8081,\n",
            "         0.8409, 0.6701, 0.7105, 0.6879, 0.7860, 0.6411, 0.8030, 0.6794, 0.7840,\n",
            "         0.5887, 0.6353, 0.6975, 0.9140, 0.7413, 0.8353, 0.8446, 0.7552, 0.8084,\n",
            "         0.6846, 0.9022, 0.8070, 0.8358, 0.8586, 0.6851, 0.7161, 0.7596, 0.8742,\n",
            "         0.7109, 0.7247, 0.8702, 0.7556, 0.7395, 0.7696, 0.9869, 0.9066, 0.8352,\n",
            "         0.8179, 0.8240, 0.7346, 0.8736, 0.7473, 0.8776, 0.9532, 0.7585, 0.7265,\n",
            "         0.8233, 1.0146, 0.7051, 0.7774, 0.8532, 0.6836, 0.7675, 0.6531, 0.7382,\n",
            "         0.9104, 0.7437, 0.8894, 0.6724, 0.7498, 0.8021, 0.9758, 0.8269, 0.6807,\n",
            "         1.0629, 0.7208, 0.7218, 0.6756, 0.6595, 0.8604, 0.8508, 1.0059, 0.7766,\n",
            "         0.7005, 0.6076, 0.8956, 0.8090, 1.0892, 1.0562, 0.5781, 0.8385, 0.7855,\n",
            "         0.6835, 0.8811, 0.7400, 0.7182, 0.6997, 0.8867, 0.8066, 0.7090, 0.7318,\n",
            "         0.6990, 0.8639, 0.7482, 0.7061, 0.7109, 0.7455, 0.7408, 0.8227, 0.9262,\n",
            "         0.5788, 0.8498, 0.6083, 0.9131, 0.8478, 0.7729, 0.8426, 0.7702, 0.7878,\n",
            "         0.7996, 0.5443, 0.8596, 0.9480, 0.7140, 0.7254, 0.7108, 0.7424, 0.7066,\n",
            "         0.7738, 0.7851, 0.8979, 0.8812, 0.8589, 0.8353, 0.8591, 0.9360, 0.7527,\n",
            "         0.8707, 0.8836, 0.7235, 0.8525, 0.8536, 0.7321, 0.7812, 0.7177, 0.8715,\n",
            "         0.8853, 1.0801, 0.7122, 0.7856, 0.8087, 0.8945, 0.7230, 0.7456, 0.8732,\n",
            "         0.8147, 0.8026, 0.7790, 0.6695, 0.7338, 0.8193, 0.7077, 0.6896, 0.7472,\n",
            "         0.7286, 0.6203, 0.7074, 0.8469, 0.8983, 0.7016, 0.7406, 0.7864, 0.6943,\n",
            "         0.8867, 0.7311, 1.0134, 0.8061, 0.9074, 0.8199, 0.8971, 0.8291, 0.8170,\n",
            "         0.7412, 0.7818, 0.8014, 0.8266, 0.9205, 0.7820, 0.9121, 0.7126, 0.6867,\n",
            "         0.7198, 0.7189, 0.9384, 1.0227, 0.8940, 0.8470, 0.9416, 0.8979]],\n",
            "       device='cuda:0', grad_fn=<ViewBackward0>)\n"
          ]
        }
      ]
    }
  ]
}